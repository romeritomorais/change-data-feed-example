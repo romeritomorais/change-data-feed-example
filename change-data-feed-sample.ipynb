{
 "cells": [
  {
   "cell_type": "markdown",
   "metadata": {
    "application/vnd.databricks.v1+cell": {
     "inputWidgets": {},
     "nuid": "e36a9926-3b2f-45a5-8ab8-c897bf55f1fe",
     "showTitle": false,
     "title": ""
    }
   },
   "source": [
    "Develop: Romerito Morais"
   ]
  },
  {
   "cell_type": "markdown",
   "metadata": {
    "application/vnd.databricks.v1+cell": {
     "inputWidgets": {},
     "nuid": "4b746efa-8c81-445a-8ed8-a499f253df3d",
     "showTitle": false,
     "title": ""
    }
   },
   "source": [
    "CDC (change data capture) is an integration pattern widely used when we talk about delivering data changes in other systems,  \n",
    "the concept is very simple, recognizing when data has changed in the source system, these changes are captured and inserted into some target system. Let's imagine the following scenario,  \n",
    "I have a table in sqlserver in the cloud and I want to update the same table in a local database, the tool identifies changes in the table of type INSERT/UPDATE/DELETE,  \n",
    "takes the changed rows and in the destination does a check based on the table ID, if the A record does not exist in the destination table, it does an INSERT operation, if the record already exists and there was a change in the row, it makes an UPDATE on the changed field, if the row was deleted it deletes in the target table. When we talk about Big Data, things tend to change a little, all these changes we capture are saved in some file format (parquet, avro, etc.) of operation that the data suffered in the origin, for example, when we work with the capture of data from MySQL (BinLog) the file comes with a column called Type that informs the type of the operation (INSERT/UPDATE/DELETE) so it is easy do the loading process taking only the operations != 'DELETE'.\n",
    "\n",
    "For this data to be loaded into TRUSTED, deduplication is done using a PARTITION BY function (generally done on top of the ID), where among several versions of the record, the last record captured in the origin is selected. You see, in RAW we have all versions of the same record (table rows). In this experiment we are going to do something interesting, we are going to do CDC using Databricks delta tables, and test a new feature called CDF (Change Data Feed). First Let's show you how the CDC process is done, let's imagine a scenario where we already have our data in the BRONZE layer and we want to take this data to the SILVER layer, for that we make an upset of data from a source table using a MERGE operation of SQL."
   ]
  },
  {
   "cell_type": "code",
   "execution_count": 0,
   "metadata": {
    "application/vnd.databricks.v1+cell": {
     "inputWidgets": {},
     "nuid": "ce35327e-5f60-453b-8dfc-2d0bb2cbb547",
     "showTitle": false,
     "title": ""
    }
   },
   "outputs": [],
   "source": [
    "%sql\n",
    "MERGE INTO customer_silver target \n",
    "USING (\n",
    "  SELECT\n",
    "    id,\n",
    "    name,\n",
    "    address,\n",
    "    email,\n",
    "    operation,\n",
    "    operation_date\n",
    "  FROM\n",
    "    (\n",
    "      SELECT\n",
    "        *,\n",
    "        ROW_NUMBER() OVER (\n",
    "          PARTITION BY id\n",
    "          ORDER BY\n",
    "            operation_date DESC\n",
    "        ) AS rank\n",
    "      FROM\n",
    "        customer_bronze\n",
    "    )\n",
    "  WHERE\n",
    "    rank = 1\n",
    ") AS source ON source.id = target.id\n",
    "WHEN MATCHED\n",
    "AND source.operation = 'DELETE' THEN DELETE\n",
    "WHEN MATCHED\n",
    "AND source.operation != 'DELETE' THEN\n",
    "UPDATE\n",
    "SET\n",
    "  *\n",
    "  WHEN NOT MATCHED\n",
    "  AND source.operation != 'DELETE' THEN\n",
    "INSERT\n",
    "  *"
   ]
  },
  {
   "cell_type": "markdown",
   "metadata": {
    "application/vnd.databricks.v1+cell": {
     "inputWidgets": {},
     "nuid": "942bac68-b3bf-41d9-9164-2fd9d6f0d22d",
     "showTitle": false,
     "title": ""
    }
   },
   "source": [
    "The MERGE operation inserts the data into the destination table based on some conditions, first a sql command is made to get the most recent record, then the MATCHED is made based on the customer_bronze table ID with the customer_silver source ON source.id = target.id, if the field data source.operation = 'DELETE' the row will be deleted from the target table, if the ID exists in the target table and the source.operation != 'DELETE' the row is updated in the target table, if the ID exists only at the source, the data is inserted into the target table. The operation is very simple, it works perfectly, but when we are dealing with a gigantic table, this process can be a little time consuming, because the operation will compare row by row of both tables and apply the operations, for this the CDF was implemented (Change Data Feed) the idea is simple, capture only the changes that the source table has suffered and update in the destination, but calm down, we will demonstrate this in the code. First let's load some libraries."
   ]
  },
  {
   "cell_type": "code",
   "execution_count": 0,
   "metadata": {
    "application/vnd.databricks.v1+cell": {
     "inputWidgets": {},
     "nuid": "acaba1f5-f2b3-46d4-b204-501e26a65c2f",
     "showTitle": false,
     "title": ""
    }
   },
   "outputs": [
    {
     "data": {
      "text/html": [
       "<style scoped>\n",
       "  .ansiout {\n",
       "    display: block;\n",
       "    unicode-bidi: embed;\n",
       "    white-space: pre-wrap;\n",
       "    word-wrap: break-word;\n",
       "    word-break: break-all;\n",
       "    font-family: \"Source Code Pro\", \"Menlo\", monospace;;\n",
       "    font-size: 13px;\n",
       "    color: #555;\n",
       "    margin-left: 4px;\n",
       "    line-height: 19px;\n",
       "  }\n",
       "</style>\n",
       "<div class=\"ansiout\"></div>"
      ]
     },
     "metadata": {
      "application/vnd.databricks.v1+output": {
       "addedWidgets": {},
       "arguments": {},
       "data": "<div class=\"ansiout\"></div>",
       "datasetInfos": [],
       "metadata": {},
       "removedWidgets": [],
       "type": "html"
      }
     },
     "output_type": "display_data"
    }
   ],
   "source": [
    "from pyspark.sql.functions import *\n",
    "from delta.tables import *"
   ]
  },
  {
   "cell_type": "markdown",
   "metadata": {
    "application/vnd.databricks.v1+cell": {
     "inputWidgets": {},
     "nuid": "ad4295b8-08aa-425c-9323-d29a3890247e",
     "showTitle": false,
     "title": ""
    }
   },
   "source": [
    "In the code below we will create two tables and enable the feed, for more information about CDF see https://docs.microsoft.com/en-us/azure/databricks/delta/delta-change-data-feed\n",
    "In this case I created the table structure and enabled the change of the feed only for the table in SILVER, I could do the same thing for the table in BRONZE, but in this example we are going to change things a little."
   ]
  },
  {
   "cell_type": "code",
   "execution_count": 0,
   "metadata": {
    "application/vnd.databricks.v1+cell": {
     "inputWidgets": {},
     "nuid": "caa3701f-ff77-48fc-80b3-3b703cb00ba7",
     "showTitle": false,
     "title": ""
    }
   },
   "outputs": [
    {
     "data": {
      "text/html": [
       "<style scoped>\n",
       "  .table-result-container {\n",
       "    max-height: 300px;\n",
       "    overflow: auto;\n",
       "  }\n",
       "  table, th, td {\n",
       "    border: 1px solid black;\n",
       "    border-collapse: collapse;\n",
       "  }\n",
       "  th, td {\n",
       "    padding: 5px;\n",
       "  }\n",
       "  th {\n",
       "    text-align: left;\n",
       "  }\n",
       "</style><div class='table-result-container'><table class='table-result'><thead style='background-color: white'><tr></tr></thead><tbody></tbody></table></div>"
      ]
     },
     "metadata": {
      "application/vnd.databricks.v1+output": {
       "addedWidgets": {},
       "aggData": [],
       "aggError": "",
       "aggOverflow": false,
       "aggSchema": [],
       "aggSeriesLimitReached": false,
       "aggType": "",
       "arguments": {},
       "columnCustomDisplayInfos": {},
       "data": [],
       "datasetInfos": [],
       "dbfsResultPath": null,
       "isJsonSchema": true,
       "metadata": {},
       "overflow": false,
       "plotOptions": {
        "customPlotOptions": {},
        "displayType": "table",
        "pivotAggregation": null,
        "pivotColumns": null,
        "xColumns": null,
        "yColumns": null
       },
       "removedWidgets": [],
       "schema": [],
       "type": "table"
      }
     },
     "output_type": "display_data"
    }
   ],
   "source": [
    "%sql\n",
    "DROP TABLE IF EXISTS salaryDSBronze;\n",
    "DROP TABLE IF EXISTS salaryDSSilver;\n",
    "DROP TABLE IF EXISTS salaryDSGold;\n",
    "\n",
    "CREATE TABLE IF NOT EXISTS salaryDSSilver (\n",
    "  id string,\n",
    "  experience_level string,\n",
    "  job_title string,\n",
    "  salary string,\n",
    "  salary_currency string\n",
    ") USING DELTA TBLPROPERTIES (delta.enableChangeDataFeed = true);\n",
    "\n",
    "CREATE TABLE IF NOT EXISTS salaryDSGold (\n",
    "  job_title string,\n",
    "  salary_currency string,\n",
    "  media_salary float\n",
    ") USING DELTA;"
   ]
  },
  {
   "cell_type": "markdown",
   "metadata": {
    "application/vnd.databricks.v1+cell": {
     "inputWidgets": {},
     "nuid": "9371dbe0-4871-4ab6-8985-2189089af93a",
     "showTitle": false,
     "title": ""
    }
   },
   "source": [
    "Now let's load a file that I found on the internet, referring to salaries for positions within the data science area, after loading I write the dataframe in the `default.salaryDSBronzetable`"
   ]
  },
  {
   "cell_type": "code",
   "execution_count": 0,
   "metadata": {
    "application/vnd.databricks.v1+cell": {
     "inputWidgets": {},
     "nuid": "dcc0cb4d-7391-42b7-95fe-a83008a12b68",
     "showTitle": false,
     "title": ""
    }
   },
   "outputs": [
    {
     "data": {
      "text/html": [
       "<style scoped>\n",
       "  .ansiout {\n",
       "    display: block;\n",
       "    unicode-bidi: embed;\n",
       "    white-space: pre-wrap;\n",
       "    word-wrap: break-word;\n",
       "    word-break: break-all;\n",
       "    font-family: \"Source Code Pro\", \"Menlo\", monospace;;\n",
       "    font-size: 13px;\n",
       "    color: #555;\n",
       "    margin-left: 4px;\n",
       "    line-height: 19px;\n",
       "  }\n",
       "</style>\n",
       "<div class=\"ansiout\"></div>"
      ]
     },
     "metadata": {
      "application/vnd.databricks.v1+output": {
       "addedWidgets": {},
       "arguments": {},
       "data": "<div class=\"ansiout\"></div>",
       "datasetInfos": [],
       "metadata": {},
       "removedWidgets": [],
       "type": "html"
      }
     },
     "output_type": "display_data"
    }
   ],
   "source": [
    "spark.read\\\n",
    "   .option(\"header\",\"true\")\\\n",
    "   .csv(\"dbfs:/FileStore/tables/salaryDataSciencelimited.csv\")\\\n",
    "   .write.format(\"delta\")\\\n",
    "   .mode(\"overwrite\").saveAsTable(\"default.salaryDSBronze\")"
   ]
  },
  {
   "cell_type": "markdown",
   "metadata": {
    "application/vnd.databricks.v1+cell": {
     "inputWidgets": {},
     "nuid": "fa2ef5ea-6aff-4d18-921a-47034f79ac79",
     "showTitle": false,
     "title": ""
    }
   },
   "source": [
    "Now let's enable the Feed in the salaryDSBronze table and insert the data from the salaryDSSilver"
   ]
  },
  {
   "cell_type": "code",
   "execution_count": 0,
   "metadata": {
    "application/vnd.databricks.v1+cell": {
     "inputWidgets": {},
     "nuid": "cca92ad1-417a-4411-8f3b-6cdf068d8494",
     "showTitle": false,
     "title": ""
    }
   },
   "outputs": [
    {
     "data": {
      "text/html": [
       "<style scoped>\n",
       "  .table-result-container {\n",
       "    max-height: 300px;\n",
       "    overflow: auto;\n",
       "  }\n",
       "  table, th, td {\n",
       "    border: 1px solid black;\n",
       "    border-collapse: collapse;\n",
       "  }\n",
       "  th, td {\n",
       "    padding: 5px;\n",
       "  }\n",
       "  th {\n",
       "    text-align: left;\n",
       "  }\n",
       "</style><div class='table-result-container'><table class='table-result'><thead style='background-color: white'><tr><th>num_affected_rows</th><th>num_inserted_rows</th></tr></thead><tbody><tr><td>9</td><td>9</td></tr></tbody></table></div>"
      ]
     },
     "metadata": {
      "application/vnd.databricks.v1+output": {
       "addedWidgets": {},
       "aggData": [],
       "aggError": "",
       "aggOverflow": false,
       "aggSchema": [],
       "aggSeriesLimitReached": false,
       "aggType": "",
       "arguments": {},
       "columnCustomDisplayInfos": {},
       "data": [
        [
         9,
         9
        ]
       ],
       "datasetInfos": [],
       "dbfsResultPath": null,
       "isJsonSchema": true,
       "metadata": {},
       "overflow": false,
       "plotOptions": {
        "customPlotOptions": {},
        "displayType": "table",
        "pivotAggregation": null,
        "pivotColumns": null,
        "xColumns": null,
        "yColumns": null
       },
       "removedWidgets": [],
       "schema": [
        {
         "metadata": "{}",
         "name": "num_affected_rows",
         "type": "\"long\""
        },
        {
         "metadata": "{}",
         "name": "num_inserted_rows",
         "type": "\"long\""
        }
       ],
       "type": "table"
      }
     },
     "output_type": "display_data"
    }
   ],
   "source": [
    "%sql\n",
    "ALTER TABLE salaryDSBronze SET TBLPROPERTIES (delta.enableChangeDataFeed=true);\n",
    "INSERT OVERWRITE salaryDSSilver TABLE salaryDSBronze;"
   ]
  },
  {
   "cell_type": "code",
   "execution_count": 0,
   "metadata": {
    "application/vnd.databricks.v1+cell": {
     "inputWidgets": {},
     "nuid": "c7f43c61-e47a-4305-ae10-50caffcb46e1",
     "showTitle": false,
     "title": ""
    }
   },
   "outputs": [
    {
     "data": {
      "text/html": [
       "<style scoped>\n",
       "  .table-result-container {\n",
       "    max-height: 300px;\n",
       "    overflow: auto;\n",
       "  }\n",
       "  table, th, td {\n",
       "    border: 1px solid black;\n",
       "    border-collapse: collapse;\n",
       "  }\n",
       "  th, td {\n",
       "    padding: 5px;\n",
       "  }\n",
       "  th {\n",
       "    text-align: left;\n",
       "  }\n",
       "</style><div class='table-result-container'><table class='table-result'><thead style='background-color: white'><tr><th>id</th><th>experience_level</th><th>job_title</th><th>salary</th><th>salary_currency</th></tr></thead><tbody><tr><td>1</td><td>SE</td><td>Machine Learning Scientist</td><td>260000</td><td>USD</td></tr><tr><td>2</td><td>SE</td><td>Big Data Engineer</td><td>85000</td><td>GBP</td></tr><tr><td>3</td><td>MI</td><td>Product Data Analyst</td><td>20000</td><td>USD</td></tr><tr><td>4</td><td>SE</td><td>Machine Learning Engineer</td><td>150000</td><td>USD</td></tr><tr><td>5</td><td>EN</td><td>Data Analyst</td><td>72000</td><td>USD</td></tr><tr><td>6</td><td>SE</td><td>Lead Data Scientist</td><td>190000</td><td>USD</td></tr><tr><td>7</td><td>MI</td><td>Data Scientist</td><td>11000000</td><td>HUF</td></tr><tr><td>8</td><td>MI</td><td>Business Data Analyst</td><td>135000</td><td>USD</td></tr><tr><td>12</td><td>MI</td><td>Data Analyst</td><td>95000</td><td>USD</td></tr></tbody></table></div>"
      ]
     },
     "metadata": {
      "application/vnd.databricks.v1+output": {
       "addedWidgets": {},
       "aggData": [],
       "aggError": "",
       "aggOverflow": false,
       "aggSchema": [],
       "aggSeriesLimitReached": false,
       "aggType": "",
       "arguments": {},
       "columnCustomDisplayInfos": {},
       "data": [
        [
         "1",
         "SE",
         "Machine Learning Scientist",
         "260000",
         "USD"
        ],
        [
         "2",
         "SE",
         "Big Data Engineer",
         "85000",
         "GBP"
        ],
        [
         "3",
         "MI",
         "Product Data Analyst",
         "20000",
         "USD"
        ],
        [
         "4",
         "SE",
         "Machine Learning Engineer",
         "150000",
         "USD"
        ],
        [
         "5",
         "EN",
         "Data Analyst",
         "72000",
         "USD"
        ],
        [
         "6",
         "SE",
         "Lead Data Scientist",
         "190000",
         "USD"
        ],
        [
         "7",
         "MI",
         "Data Scientist",
         "11000000",
         "HUF"
        ],
        [
         "8",
         "MI",
         "Business Data Analyst",
         "135000",
         "USD"
        ],
        [
         "12",
         "MI",
         "Data Analyst",
         "95000",
         "USD"
        ]
       ],
       "datasetInfos": [],
       "dbfsResultPath": null,
       "isJsonSchema": true,
       "metadata": {},
       "overflow": false,
       "plotOptions": {
        "customPlotOptions": {},
        "displayType": "table",
        "pivotAggregation": null,
        "pivotColumns": null,
        "xColumns": null,
        "yColumns": null
       },
       "removedWidgets": [],
       "schema": [
        {
         "metadata": "{}",
         "name": "id",
         "type": "\"string\""
        },
        {
         "metadata": "{}",
         "name": "experience_level",
         "type": "\"string\""
        },
        {
         "metadata": "{}",
         "name": "job_title",
         "type": "\"string\""
        },
        {
         "metadata": "{}",
         "name": "salary",
         "type": "\"string\""
        },
        {
         "metadata": "{}",
         "name": "salary_currency",
         "type": "\"string\""
        }
       ],
       "type": "table"
      }
     },
     "output_type": "display_data"
    }
   ],
   "source": [
    "%sql\n",
    "SELECT * FROM salaryDSBronze;"
   ]
  },
  {
   "cell_type": "markdown",
   "metadata": {
    "application/vnd.databricks.v1+cell": {
     "inputWidgets": {},
     "nuid": "94c86f8f-a22b-442d-881d-1b7c1361c9bd",
     "showTitle": false,
     "title": ""
    }
   },
   "source": [
    "To see the version history of the table run the command below"
   ]
  },
  {
   "cell_type": "code",
   "execution_count": null,
   "metadata": {
    "application/vnd.databricks.v1+cell": {
     "inputWidgets": {},
     "nuid": "0fede202-fe0a-4c22-9852-b824bf75fa3c",
     "showTitle": false,
     "title": ""
    }
   },
   "outputs": [],
   "source": [
    "%sql \n",
    "DESCRIBE HISTORY salaryDSBronze;"
   ]
  },
  {
   "cell_type": "markdown",
   "metadata": {
    "application/vnd.databricks.v1+cell": {
     "inputWidgets": {},
     "nuid": "59dc891b-9ddf-453b-824b-421209f046bb",
     "showTitle": false,
     "title": ""
    }
   },
   "source": [
    "See that this table has 2 lines, each line of this is a version of the table, with each change in the table a version is generated, with this feature it is possible to `TIME TRAVEL` to a specific version, audit or even revert to a version of the table in case of an unsuccessful operation etc.. in the example below I went back to version 0 of the table. We will not go into this subject now, in another post we will talk about it in detail."
   ]
  },
  {
   "cell_type": "code",
   "execution_count": 0,
   "metadata": {
    "application/vnd.databricks.v1+cell": {
     "inputWidgets": {},
     "nuid": "6d6cec18-edea-4209-9936-9dd19cc03cdc",
     "showTitle": false,
     "title": ""
    }
   },
   "outputs": [
    {
     "data": {
      "text/html": [
       "<style scoped>\n",
       "  .table-result-container {\n",
       "    max-height: 300px;\n",
       "    overflow: auto;\n",
       "  }\n",
       "  table, th, td {\n",
       "    border: 1px solid black;\n",
       "    border-collapse: collapse;\n",
       "  }\n",
       "  th, td {\n",
       "    padding: 5px;\n",
       "  }\n",
       "  th {\n",
       "    text-align: left;\n",
       "  }\n",
       "</style><div class='table-result-container'><table class='table-result'><thead style='background-color: white'><tr><th>id</th><th>experience_level</th><th>job_title</th><th>salary</th><th>salary_currency</th></tr></thead><tbody><tr><td>1</td><td>SE</td><td>Machine Learning Scientist</td><td>260000</td><td>USD</td></tr><tr><td>2</td><td>SE</td><td>Big Data Engineer</td><td>85000</td><td>GBP</td></tr><tr><td>3</td><td>MI</td><td>Product Data Analyst</td><td>20000</td><td>USD</td></tr><tr><td>4</td><td>SE</td><td>Machine Learning Engineer</td><td>150000</td><td>USD</td></tr><tr><td>5</td><td>EN</td><td>Data Analyst</td><td>72000</td><td>USD</td></tr><tr><td>6</td><td>SE</td><td>Lead Data Scientist</td><td>190000</td><td>USD</td></tr><tr><td>7</td><td>MI</td><td>Data Scientist</td><td>11000000</td><td>HUF</td></tr><tr><td>8</td><td>MI</td><td>Business Data Analyst</td><td>135000</td><td>USD</td></tr><tr><td>12</td><td>MI</td><td>Data Analyst</td><td>95000</td><td>USD</td></tr></tbody></table></div>"
      ]
     },
     "metadata": {
      "application/vnd.databricks.v1+output": {
       "addedWidgets": {},
       "aggData": [],
       "aggError": "",
       "aggOverflow": false,
       "aggSchema": [],
       "aggSeriesLimitReached": false,
       "aggType": "",
       "arguments": {},
       "columnCustomDisplayInfos": {},
       "data": [
        [
         "1",
         "SE",
         "Machine Learning Scientist",
         "260000",
         "USD"
        ],
        [
         "2",
         "SE",
         "Big Data Engineer",
         "85000",
         "GBP"
        ],
        [
         "3",
         "MI",
         "Product Data Analyst",
         "20000",
         "USD"
        ],
        [
         "4",
         "SE",
         "Machine Learning Engineer",
         "150000",
         "USD"
        ],
        [
         "5",
         "EN",
         "Data Analyst",
         "72000",
         "USD"
        ],
        [
         "6",
         "SE",
         "Lead Data Scientist",
         "190000",
         "USD"
        ],
        [
         "7",
         "MI",
         "Data Scientist",
         "11000000",
         "HUF"
        ],
        [
         "8",
         "MI",
         "Business Data Analyst",
         "135000",
         "USD"
        ],
        [
         "12",
         "MI",
         "Data Analyst",
         "95000",
         "USD"
        ]
       ],
       "datasetInfos": [],
       "dbfsResultPath": null,
       "isJsonSchema": true,
       "metadata": {},
       "overflow": false,
       "plotOptions": {
        "customPlotOptions": {},
        "displayType": "table",
        "pivotAggregation": null,
        "pivotColumns": null,
        "xColumns": null,
        "yColumns": null
       },
       "removedWidgets": [],
       "schema": [
        {
         "metadata": "{}",
         "name": "id",
         "type": "\"string\""
        },
        {
         "metadata": "{}",
         "name": "experience_level",
         "type": "\"string\""
        },
        {
         "metadata": "{}",
         "name": "job_title",
         "type": "\"string\""
        },
        {
         "metadata": "{}",
         "name": "salary",
         "type": "\"string\""
        },
        {
         "metadata": "{}",
         "name": "salary_currency",
         "type": "\"string\""
        }
       ],
       "type": "table"
      }
     },
     "output_type": "display_data"
    }
   ],
   "source": [
    "%sql\n",
    "SELECT * FROM salaryDSBronze VERSION AS OF 0;"
   ]
  },
  {
   "cell_type": "markdown",
   "metadata": {
    "application/vnd.databricks.v1+cell": {
     "inputWidgets": {},
     "nuid": "0fd37110-e30a-452d-ac62-574ad4331129",
     "showTitle": false,
     "title": ""
    }
   },
   "source": [
    "So, where do I see the table row-level interactions? well, for that we need to access this table of changes, as we are doing everything in sql the responsible function for this is `table_changes()`, for the python API the same is  \n",
    "`.option(\"readChangeFeed\", \"true\")` Each line changed from the table generates a version number, so for you to retrieve this information you need to define a range, initial and final value, example:\n",
    "\n",
    "`SELECT * FROM table_changes('table', 1,5)`\n",
    "\n",
    "the command will return the lines between version 1 and 5, if I set only the beginning, it will display everything from that number. example\n",
    "\n",
    "`SELECT * FROM table_changes('table', 1)`, let's go to the example below"
   ]
  },
  {
   "cell_type": "code",
   "execution_count": 0,
   "metadata": {
    "application/vnd.databricks.v1+cell": {
     "inputWidgets": {},
     "nuid": "56cff41e-23c5-4f81-b9f5-a5f20b1491bc",
     "showTitle": false,
     "title": ""
    }
   },
   "outputs": [
    {
     "data": {
      "text/html": [
       "<style scoped>\n",
       "  .table-result-container {\n",
       "    max-height: 300px;\n",
       "    overflow: auto;\n",
       "  }\n",
       "  table, th, td {\n",
       "    border: 1px solid black;\n",
       "    border-collapse: collapse;\n",
       "  }\n",
       "  th, td {\n",
       "    padding: 5px;\n",
       "  }\n",
       "  th {\n",
       "    text-align: left;\n",
       "  }\n",
       "</style><div class='table-result-container'><table class='table-result'><thead style='background-color: white'><tr><th>id</th><th>experience_level</th><th>job_title</th><th>salary</th><th>salary_currency</th><th>_change_type</th><th>_commit_version</th><th>_commit_timestamp</th></tr></thead><tbody></tbody></table></div>"
      ]
     },
     "metadata": {
      "application/vnd.databricks.v1+output": {
       "addedWidgets": {},
       "aggData": [],
       "aggError": "",
       "aggOverflow": false,
       "aggSchema": [],
       "aggSeriesLimitReached": false,
       "aggType": "",
       "arguments": {},
       "columnCustomDisplayInfos": {},
       "data": [],
       "datasetInfos": [],
       "dbfsResultPath": null,
       "isJsonSchema": true,
       "metadata": {},
       "overflow": false,
       "plotOptions": {
        "customPlotOptions": {},
        "displayType": "table",
        "pivotAggregation": null,
        "pivotColumns": null,
        "xColumns": null,
        "yColumns": null
       },
       "removedWidgets": [],
       "schema": [
        {
         "metadata": "{}",
         "name": "id",
         "type": "\"string\""
        },
        {
         "metadata": "{}",
         "name": "experience_level",
         "type": "\"string\""
        },
        {
         "metadata": "{}",
         "name": "job_title",
         "type": "\"string\""
        },
        {
         "metadata": "{}",
         "name": "salary",
         "type": "\"string\""
        },
        {
         "metadata": "{}",
         "name": "salary_currency",
         "type": "\"string\""
        },
        {
         "metadata": "{}",
         "name": "_change_type",
         "type": "\"string\""
        },
        {
         "metadata": "{}",
         "name": "_commit_version",
         "type": "\"long\""
        },
        {
         "metadata": "{}",
         "name": "_commit_timestamp",
         "type": "\"timestamp\""
        }
       ],
       "type": "table"
      }
     },
     "output_type": "display_data"
    }
   ],
   "source": [
    "%sql\n",
    "SELECT * FROM  table_changes('salaryDSBronze', 1)"
   ]
  },
  {
   "cell_type": "markdown",
   "metadata": {
    "application/vnd.databricks.v1+cell": {
     "inputWidgets": {},
     "nuid": "1914f0da-205a-483b-85e1-b07a573ad2a8",
     "showTitle": false,
     "title": ""
    }
   },
   "source": [
    "Notice that the above command didn't return anything, as we haven't made any changes to the `salaryDSBronze` source table yet, let's do some operations on that table and check the result.\n",
    "Let's simulate operations on BRONZE, as if lines were added via spark.write or another process that updates, inserts or deletes lines."
   ]
  },
  {
   "cell_type": "code",
   "execution_count": 0,
   "metadata": {
    "application/vnd.databricks.v1+cell": {
     "inputWidgets": {},
     "nuid": "525c646c-8791-4f5c-adbf-e56f94de6b23",
     "showTitle": false,
     "title": ""
    }
   },
   "outputs": [
    {
     "data": {
      "text/html": [
       "<style scoped>\n",
       "  .table-result-container {\n",
       "    max-height: 300px;\n",
       "    overflow: auto;\n",
       "  }\n",
       "  table, th, td {\n",
       "    border: 1px solid black;\n",
       "    border-collapse: collapse;\n",
       "  }\n",
       "  th, td {\n",
       "    padding: 5px;\n",
       "  }\n",
       "  th {\n",
       "    text-align: left;\n",
       "  }\n",
       "</style><div class='table-result-container'><table class='table-result'><thead style='background-color: white'><tr><th>num_affected_rows</th></tr></thead><tbody><tr><td>1</td></tr></tbody></table></div>"
      ]
     },
     "metadata": {
      "application/vnd.databricks.v1+output": {
       "addedWidgets": {},
       "aggData": [],
       "aggError": "",
       "aggOverflow": false,
       "aggSchema": [],
       "aggSeriesLimitReached": false,
       "aggType": "",
       "arguments": {},
       "columnCustomDisplayInfos": {},
       "data": [
        [
         1
        ]
       ],
       "datasetInfos": [],
       "dbfsResultPath": null,
       "isJsonSchema": true,
       "metadata": {},
       "overflow": false,
       "plotOptions": {
        "customPlotOptions": {},
        "displayType": "table",
        "pivotAggregation": null,
        "pivotColumns": null,
        "xColumns": null,
        "yColumns": null
       },
       "removedWidgets": [],
       "schema": [
        {
         "metadata": "{}",
         "name": "num_affected_rows",
         "type": "\"long\""
        }
       ],
       "type": "table"
      }
     },
     "output_type": "display_data"
    }
   ],
   "source": [
    "%sql\n",
    "DELETE FROM salaryDSBronze WHERE id = 12;"
   ]
  },
  {
   "cell_type": "markdown",
   "metadata": {
    "application/vnd.databricks.v1+cell": {
     "inputWidgets": {},
     "nuid": "0279cf00-fef4-4358-a7e2-4f1edc53275d",
     "showTitle": false,
     "title": ""
    }
   },
   "source": [
    "We deleted `ID=12`, now let's see the changes made to the table"
   ]
  },
  {
   "cell_type": "code",
   "execution_count": 0,
   "metadata": {
    "application/vnd.databricks.v1+cell": {
     "inputWidgets": {},
     "nuid": "3ee424ff-c294-42ee-973e-c476443128fc",
     "showTitle": false,
     "title": ""
    }
   },
   "outputs": [
    {
     "data": {
      "text/html": [
       "<style scoped>\n",
       "  .table-result-container {\n",
       "    max-height: 300px;\n",
       "    overflow: auto;\n",
       "  }\n",
       "  table, th, td {\n",
       "    border: 1px solid black;\n",
       "    border-collapse: collapse;\n",
       "  }\n",
       "  th, td {\n",
       "    padding: 5px;\n",
       "  }\n",
       "  th {\n",
       "    text-align: left;\n",
       "  }\n",
       "</style><div class='table-result-container'><table class='table-result'><thead style='background-color: white'><tr><th>id</th><th>experience_level</th><th>job_title</th><th>salary</th><th>salary_currency</th><th>_change_type</th><th>_commit_version</th><th>_commit_timestamp</th></tr></thead><tbody><tr><td>12</td><td>MI</td><td>Data Analyst</td><td>95000</td><td>USD</td><td>delete</td><td>2</td><td>2022-08-12T22:51:57.000+0000</td></tr></tbody></table></div>"
      ]
     },
     "metadata": {
      "application/vnd.databricks.v1+output": {
       "addedWidgets": {},
       "aggData": [],
       "aggError": "",
       "aggOverflow": false,
       "aggSchema": [],
       "aggSeriesLimitReached": false,
       "aggType": "",
       "arguments": {},
       "columnCustomDisplayInfos": {},
       "data": [
        [
         "12",
         "MI",
         "Data Analyst",
         "95000",
         "USD",
         "delete",
         2,
         "2022-08-12T22:51:57.000+0000"
        ]
       ],
       "datasetInfos": [],
       "dbfsResultPath": null,
       "isJsonSchema": true,
       "metadata": {},
       "overflow": false,
       "plotOptions": {
        "customPlotOptions": {},
        "displayType": "table",
        "pivotAggregation": null,
        "pivotColumns": null,
        "xColumns": null,
        "yColumns": null
       },
       "removedWidgets": [],
       "schema": [
        {
         "metadata": "{}",
         "name": "id",
         "type": "\"string\""
        },
        {
         "metadata": "{}",
         "name": "experience_level",
         "type": "\"string\""
        },
        {
         "metadata": "{}",
         "name": "job_title",
         "type": "\"string\""
        },
        {
         "metadata": "{}",
         "name": "salary",
         "type": "\"string\""
        },
        {
         "metadata": "{}",
         "name": "salary_currency",
         "type": "\"string\""
        },
        {
         "metadata": "{}",
         "name": "_change_type",
         "type": "\"string\""
        },
        {
         "metadata": "{}",
         "name": "_commit_version",
         "type": "\"long\""
        },
        {
         "metadata": "{}",
         "name": "_commit_timestamp",
         "type": "\"timestamp\""
        }
       ],
       "type": "table"
      }
     },
     "output_type": "display_data"
    }
   ],
   "source": [
    "%sql\n",
    "SELECT * FROM  table_changes('salaryDSBronze', 1)"
   ]
  },
  {
   "cell_type": "markdown",
   "metadata": {
    "application/vnd.databricks.v1+cell": {
     "inputWidgets": {},
     "nuid": "9e79a103-b6eb-405c-b1f2-8a63291900ab",
     "showTitle": false,
     "title": ""
    }
   },
   "source": [
    "see that ID=12 has undergone a DELETE change and `_commit_version=12`, remembering that this field receives an incremental value\n",
    "now let's see the history of our table, notice that we have version=2 that is, it suffered a DELETE operation"
   ]
  },
  {
   "cell_type": "code",
   "execution_count": null,
   "metadata": {
    "application/vnd.databricks.v1+cell": {
     "inputWidgets": {},
     "nuid": "5edd7a20-59bd-4a62-abe2-7ef1eff5b9c1",
     "showTitle": false,
     "title": ""
    }
   },
   "outputs": [],
   "source": [
    "%sql\n",
    "DESCRIBE HISTORY salaryDSBronze;"
   ]
  },
  {
   "cell_type": "markdown",
   "metadata": {
    "application/vnd.databricks.v1+cell": {
     "inputWidgets": {},
     "nuid": "e65eb802-1cff-410f-9fd4-b2a5ec642e07",
     "showTitle": false,
     "title": ""
    }
   },
   "source": [
    "Now let's see how our table is in SILVER, notice that it still contains ID=12"
   ]
  },
  {
   "cell_type": "code",
   "execution_count": 0,
   "metadata": {
    "application/vnd.databricks.v1+cell": {
     "inputWidgets": {},
     "nuid": "6be7dffc-7f4e-47ea-8836-2532f69a60b3",
     "showTitle": false,
     "title": ""
    }
   },
   "outputs": [
    {
     "data": {
      "text/html": [
       "<style scoped>\n",
       "  .table-result-container {\n",
       "    max-height: 300px;\n",
       "    overflow: auto;\n",
       "  }\n",
       "  table, th, td {\n",
       "    border: 1px solid black;\n",
       "    border-collapse: collapse;\n",
       "  }\n",
       "  th, td {\n",
       "    padding: 5px;\n",
       "  }\n",
       "  th {\n",
       "    text-align: left;\n",
       "  }\n",
       "</style><div class='table-result-container'><table class='table-result'><thead style='background-color: white'><tr><th>id</th><th>experience_level</th><th>job_title</th><th>salary</th><th>salary_currency</th></tr></thead><tbody><tr><td>1</td><td>SE</td><td>Machine Learning Scientist</td><td>260000</td><td>USD</td></tr><tr><td>2</td><td>SE</td><td>Big Data Engineer</td><td>85000</td><td>GBP</td></tr><tr><td>3</td><td>MI</td><td>Product Data Analyst</td><td>20000</td><td>USD</td></tr><tr><td>4</td><td>SE</td><td>Machine Learning Engineer</td><td>150000</td><td>USD</td></tr><tr><td>5</td><td>EN</td><td>Data Analyst</td><td>72000</td><td>USD</td></tr><tr><td>6</td><td>SE</td><td>Lead Data Scientist</td><td>190000</td><td>USD</td></tr><tr><td>7</td><td>MI</td><td>Data Scientist</td><td>11000000</td><td>HUF</td></tr><tr><td>8</td><td>MI</td><td>Business Data Analyst</td><td>135000</td><td>USD</td></tr><tr><td>12</td><td>MI</td><td>Data Analyst</td><td>95000</td><td>USD</td></tr></tbody></table></div>"
      ]
     },
     "metadata": {
      "application/vnd.databricks.v1+output": {
       "addedWidgets": {},
       "aggData": [],
       "aggError": "",
       "aggOverflow": false,
       "aggSchema": [],
       "aggSeriesLimitReached": false,
       "aggType": "",
       "arguments": {},
       "columnCustomDisplayInfos": {},
       "data": [
        [
         "1",
         "SE",
         "Machine Learning Scientist",
         "260000",
         "USD"
        ],
        [
         "2",
         "SE",
         "Big Data Engineer",
         "85000",
         "GBP"
        ],
        [
         "3",
         "MI",
         "Product Data Analyst",
         "20000",
         "USD"
        ],
        [
         "4",
         "SE",
         "Machine Learning Engineer",
         "150000",
         "USD"
        ],
        [
         "5",
         "EN",
         "Data Analyst",
         "72000",
         "USD"
        ],
        [
         "6",
         "SE",
         "Lead Data Scientist",
         "190000",
         "USD"
        ],
        [
         "7",
         "MI",
         "Data Scientist",
         "11000000",
         "HUF"
        ],
        [
         "8",
         "MI",
         "Business Data Analyst",
         "135000",
         "USD"
        ],
        [
         "12",
         "MI",
         "Data Analyst",
         "95000",
         "USD"
        ]
       ],
       "datasetInfos": [],
       "dbfsResultPath": null,
       "isJsonSchema": true,
       "metadata": {},
       "overflow": false,
       "plotOptions": {
        "customPlotOptions": {},
        "displayType": "table",
        "pivotAggregation": null,
        "pivotColumns": null,
        "xColumns": null,
        "yColumns": null
       },
       "removedWidgets": [],
       "schema": [
        {
         "metadata": "{}",
         "name": "id",
         "type": "\"string\""
        },
        {
         "metadata": "{}",
         "name": "experience_level",
         "type": "\"string\""
        },
        {
         "metadata": "{}",
         "name": "job_title",
         "type": "\"string\""
        },
        {
         "metadata": "{}",
         "name": "salary",
         "type": "\"string\""
        },
        {
         "metadata": "{}",
         "name": "salary_currency",
         "type": "\"string\""
        }
       ],
       "type": "table"
      }
     },
     "output_type": "display_data"
    }
   ],
   "source": [
    "%sql\n",
    "SELECT * FROM salaryDSSilver;"
   ]
  },
  {
   "cell_type": "markdown",
   "metadata": {
    "application/vnd.databricks.v1+cell": {
     "inputWidgets": {},
     "nuid": "f373c676-5b2c-4dc1-86a6-3a1ad751ec36",
     "showTitle": false,
     "title": ""
    }
   },
   "source": [
    "Now we are going to update our SILVER table based only on the BRONZE changes, before when we did the MERGE, we did the line-by-line check, now we only take the changes made to the BRONZE table and we MERGE the SILVER, and this is very simple, see."
   ]
  },
  {
   "cell_type": "code",
   "execution_count": 0,
   "metadata": {
    "application/vnd.databricks.v1+cell": {
     "inputWidgets": {},
     "nuid": "517bfaa6-1bef-4c03-a8de-7fbf24bd878e",
     "showTitle": false,
     "title": ""
    }
   },
   "outputs": [
    {
     "data": {
      "text/html": [
       "<style scoped>\n",
       "  .table-result-container {\n",
       "    max-height: 300px;\n",
       "    overflow: auto;\n",
       "  }\n",
       "  table, th, td {\n",
       "    border: 1px solid black;\n",
       "    border-collapse: collapse;\n",
       "  }\n",
       "  th, td {\n",
       "    padding: 5px;\n",
       "  }\n",
       "  th {\n",
       "    text-align: left;\n",
       "  }\n",
       "</style><div class='table-result-container'><table class='table-result'><thead style='background-color: white'><tr><th>num_affected_rows</th><th>num_updated_rows</th><th>num_deleted_rows</th><th>num_inserted_rows</th></tr></thead><tbody><tr><td>1</td><td>0</td><td>1</td><td>0</td></tr></tbody></table></div>"
      ]
     },
     "metadata": {
      "application/vnd.databricks.v1+output": {
       "addedWidgets": {},
       "aggData": [],
       "aggError": "",
       "aggOverflow": false,
       "aggSchema": [],
       "aggSeriesLimitReached": false,
       "aggType": "",
       "arguments": {},
       "columnCustomDisplayInfos": {},
       "data": [
        [
         1,
         0,
         1,
         0
        ]
       ],
       "datasetInfos": [],
       "dbfsResultPath": null,
       "isJsonSchema": true,
       "metadata": {},
       "overflow": false,
       "plotOptions": {
        "customPlotOptions": {},
        "displayType": "table",
        "pivotAggregation": null,
        "pivotColumns": null,
        "xColumns": null,
        "yColumns": null
       },
       "removedWidgets": [],
       "schema": [
        {
         "metadata": "{}",
         "name": "num_affected_rows",
         "type": "\"long\""
        },
        {
         "metadata": "{}",
         "name": "num_updated_rows",
         "type": "\"long\""
        },
        {
         "metadata": "{}",
         "name": "num_deleted_rows",
         "type": "\"long\""
        },
        {
         "metadata": "{}",
         "name": "num_inserted_rows",
         "type": "\"long\""
        }
       ],
       "type": "table"
      }
     },
     "output_type": "display_data"
    }
   ],
   "source": [
    "%sql\n",
    "MERGE INTO salaryDSSilver USING (\n",
    "  SELECT\n",
    "  *\n",
    "FROM\n",
    "  (\n",
    "    SELECT\n",
    "      *,\n",
    "      RANK() OVER (\n",
    "        PARTITION BY id\n",
    "        ORDER by\n",
    "          _commit_version DESC\n",
    "      ) AS RANK\n",
    "    FROM\n",
    "      table_changes('salaryDSBronze', 2)\n",
    "    WHERE\n",
    "      _change_type != 'update_preimage'\n",
    "  )\n",
    "WHERE\n",
    "  RANK = 1\n",
    ") AS bronze_cdf ON bronze_cdf.id = salaryDSSilver.id\n",
    "WHEN MATCHED AND bronze_cdf._change_type = 'delete' THEN DELETE\n",
    "WHEN MATCHED AND bronze_cdf._change_type != 'delete' THEN UPDATE SET *\n",
    "WHEN NOT MATCHED AND bronze_cdf._change_type != 'delete' THEN INSERT *;"
   ]
  },
  {
   "cell_type": "markdown",
   "metadata": {
    "application/vnd.databricks.v1+cell": {
     "inputWidgets": {},
     "nuid": "42492c60-4915-4bc9-a0ea-29b8123693fe",
     "showTitle": false,
     "title": ""
    }
   },
   "source": [
    "consulting the table."
   ]
  },
  {
   "cell_type": "code",
   "execution_count": 0,
   "metadata": {
    "application/vnd.databricks.v1+cell": {
     "inputWidgets": {},
     "nuid": "977396b8-c3ab-4b7e-a169-cb1474d817d7",
     "showTitle": false,
     "title": ""
    }
   },
   "outputs": [
    {
     "data": {
      "text/html": [
       "<style scoped>\n",
       "  .table-result-container {\n",
       "    max-height: 300px;\n",
       "    overflow: auto;\n",
       "  }\n",
       "  table, th, td {\n",
       "    border: 1px solid black;\n",
       "    border-collapse: collapse;\n",
       "  }\n",
       "  th, td {\n",
       "    padding: 5px;\n",
       "  }\n",
       "  th {\n",
       "    text-align: left;\n",
       "  }\n",
       "</style><div class='table-result-container'><table class='table-result'><thead style='background-color: white'><tr><th>id</th><th>experience_level</th><th>job_title</th><th>salary</th><th>salary_currency</th></tr></thead><tbody><tr><td>1</td><td>SE</td><td>Machine Learning Scientist</td><td>260000</td><td>USD</td></tr><tr><td>2</td><td>SE</td><td>Big Data Engineer</td><td>85000</td><td>GBP</td></tr><tr><td>3</td><td>MI</td><td>Product Data Analyst</td><td>20000</td><td>USD</td></tr><tr><td>4</td><td>SE</td><td>Machine Learning Engineer</td><td>150000</td><td>USD</td></tr><tr><td>5</td><td>EN</td><td>Data Analyst</td><td>72000</td><td>USD</td></tr><tr><td>6</td><td>SE</td><td>Lead Data Scientist</td><td>190000</td><td>USD</td></tr><tr><td>7</td><td>MI</td><td>Data Scientist</td><td>11000000</td><td>HUF</td></tr><tr><td>8</td><td>MI</td><td>Business Data Analyst</td><td>135000</td><td>USD</td></tr></tbody></table></div>"
      ]
     },
     "metadata": {
      "application/vnd.databricks.v1+output": {
       "addedWidgets": {},
       "aggData": [],
       "aggError": "",
       "aggOverflow": false,
       "aggSchema": [],
       "aggSeriesLimitReached": false,
       "aggType": "",
       "arguments": {},
       "columnCustomDisplayInfos": {},
       "data": [
        [
         "1",
         "SE",
         "Machine Learning Scientist",
         "260000",
         "USD"
        ],
        [
         "2",
         "SE",
         "Big Data Engineer",
         "85000",
         "GBP"
        ],
        [
         "3",
         "MI",
         "Product Data Analyst",
         "20000",
         "USD"
        ],
        [
         "4",
         "SE",
         "Machine Learning Engineer",
         "150000",
         "USD"
        ],
        [
         "5",
         "EN",
         "Data Analyst",
         "72000",
         "USD"
        ],
        [
         "6",
         "SE",
         "Lead Data Scientist",
         "190000",
         "USD"
        ],
        [
         "7",
         "MI",
         "Data Scientist",
         "11000000",
         "HUF"
        ],
        [
         "8",
         "MI",
         "Business Data Analyst",
         "135000",
         "USD"
        ]
       ],
       "datasetInfos": [],
       "dbfsResultPath": null,
       "isJsonSchema": true,
       "metadata": {},
       "overflow": false,
       "plotOptions": {
        "customPlotOptions": {},
        "displayType": "table",
        "pivotAggregation": null,
        "pivotColumns": null,
        "xColumns": null,
        "yColumns": null
       },
       "removedWidgets": [],
       "schema": [
        {
         "metadata": "{}",
         "name": "id",
         "type": "\"string\""
        },
        {
         "metadata": "{}",
         "name": "experience_level",
         "type": "\"string\""
        },
        {
         "metadata": "{}",
         "name": "job_title",
         "type": "\"string\""
        },
        {
         "metadata": "{}",
         "name": "salary",
         "type": "\"string\""
        },
        {
         "metadata": "{}",
         "name": "salary_currency",
         "type": "\"string\""
        }
       ],
       "type": "table"
      }
     },
     "output_type": "display_data"
    }
   ],
   "source": [
    "%sql\n",
    "SELECT\n",
    "  *\n",
    "FROM\n",
    "  salaryDSSilver\n",
    "ORDER BY\n",
    "  CAST(id AS INT) ASC"
   ]
  },
  {
   "cell_type": "markdown",
   "metadata": {
    "application/vnd.databricks.v1+cell": {
     "inputWidgets": {},
     "nuid": "a8372368-0c38-4e90-8b3c-53b8c21cec5f",
     "showTitle": false,
     "title": ""
    }
   },
   "source": [
    "Very cool, right, MERGE only took the changes and applied them, simple and very fast. Now let's do an INSERT into the source table."
   ]
  },
  {
   "cell_type": "code",
   "execution_count": 0,
   "metadata": {
    "application/vnd.databricks.v1+cell": {
     "inputWidgets": {},
     "nuid": "71dcdeb0-132a-477f-b05d-f0e1cb1069dc",
     "showTitle": false,
     "title": ""
    }
   },
   "outputs": [
    {
     "data": {
      "text/html": [
       "<style scoped>\n",
       "  .table-result-container {\n",
       "    max-height: 300px;\n",
       "    overflow: auto;\n",
       "  }\n",
       "  table, th, td {\n",
       "    border: 1px solid black;\n",
       "    border-collapse: collapse;\n",
       "  }\n",
       "  th, td {\n",
       "    padding: 5px;\n",
       "  }\n",
       "  th {\n",
       "    text-align: left;\n",
       "  }\n",
       "</style><div class='table-result-container'><table class='table-result'><thead style='background-color: white'><tr><th>id</th><th>experience_level</th><th>job_title</th><th>salary</th><th>salary_currency</th></tr></thead><tbody><tr><td>1</td><td>SE</td><td>Machine Learning Scientist</td><td>260000</td><td>USD</td></tr><tr><td>2</td><td>SE</td><td>Big Data Engineer</td><td>85000</td><td>GBP</td></tr><tr><td>3</td><td>MI</td><td>Product Data Analyst</td><td>20000</td><td>USD</td></tr><tr><td>4</td><td>SE</td><td>Machine Learning Engineer</td><td>150000</td><td>USD</td></tr><tr><td>5</td><td>EN</td><td>Data Analyst</td><td>72000</td><td>USD</td></tr><tr><td>6</td><td>SE</td><td>Lead Data Scientist</td><td>190000</td><td>USD</td></tr><tr><td>7</td><td>MI</td><td>Data Scientist</td><td>11000000</td><td>HUF</td></tr><tr><td>8</td><td>MI</td><td>Business Data Analyst</td><td>135000</td><td>USD</td></tr><tr><td>11</td><td>SE</td><td>DataOps Engineer</td><td>19000</td><td>USD</td></tr><tr><td>9</td><td>SE</td><td>Data Scientist</td><td>160000</td><td>USD</td></tr></tbody></table></div>"
      ]
     },
     "metadata": {
      "application/vnd.databricks.v1+output": {
       "addedWidgets": {},
       "aggData": [],
       "aggError": "",
       "aggOverflow": false,
       "aggSchema": [],
       "aggSeriesLimitReached": false,
       "aggType": "",
       "arguments": {},
       "columnCustomDisplayInfos": {},
       "data": [
        [
         "1",
         "SE",
         "Machine Learning Scientist",
         "260000",
         "USD"
        ],
        [
         "2",
         "SE",
         "Big Data Engineer",
         "85000",
         "GBP"
        ],
        [
         "3",
         "MI",
         "Product Data Analyst",
         "20000",
         "USD"
        ],
        [
         "4",
         "SE",
         "Machine Learning Engineer",
         "150000",
         "USD"
        ],
        [
         "5",
         "EN",
         "Data Analyst",
         "72000",
         "USD"
        ],
        [
         "6",
         "SE",
         "Lead Data Scientist",
         "190000",
         "USD"
        ],
        [
         "7",
         "MI",
         "Data Scientist",
         "11000000",
         "HUF"
        ],
        [
         "8",
         "MI",
         "Business Data Analyst",
         "135000",
         "USD"
        ],
        [
         "11",
         "SE",
         "DataOps Engineer",
         "19000",
         "USD"
        ],
        [
         "9",
         "SE",
         "Data Scientist",
         "160000",
         "USD"
        ]
       ],
       "datasetInfos": [],
       "dbfsResultPath": null,
       "isJsonSchema": true,
       "metadata": {},
       "overflow": false,
       "plotOptions": {
        "customPlotOptions": {},
        "displayType": "table",
        "pivotAggregation": null,
        "pivotColumns": null,
        "xColumns": null,
        "yColumns": null
       },
       "removedWidgets": [],
       "schema": [
        {
         "metadata": "{}",
         "name": "id",
         "type": "\"string\""
        },
        {
         "metadata": "{}",
         "name": "experience_level",
         "type": "\"string\""
        },
        {
         "metadata": "{}",
         "name": "job_title",
         "type": "\"string\""
        },
        {
         "metadata": "{}",
         "name": "salary",
         "type": "\"string\""
        },
        {
         "metadata": "{}",
         "name": "salary_currency",
         "type": "\"string\""
        }
       ],
       "type": "table"
      }
     },
     "output_type": "display_data"
    }
   ],
   "source": [
    "%sql\n",
    "INSERT INTO salaryDSBronze VALUES ('9','SE','Data Scientist','160000','USD');\n",
    "INSERT INTO salaryDSBronze VALUES ('11','SE','DataOps Engineer','19000','USD');\n",
    "\n",
    "SELECT * FROM salaryDSBronze;"
   ]
  },
  {
   "cell_type": "markdown",
   "metadata": {
    "application/vnd.databricks.v1+cell": {
     "inputWidgets": {},
     "nuid": "34dedec4-2052-4ac8-b01c-78d1d755f416",
     "showTitle": false,
     "title": ""
    }
   },
   "source": [
    "Lines changed."
   ]
  },
  {
   "cell_type": "code",
   "execution_count": 0,
   "metadata": {
    "application/vnd.databricks.v1+cell": {
     "inputWidgets": {},
     "nuid": "6c7aeefc-48a9-414d-80c2-caf46c03b2b4",
     "showTitle": false,
     "title": ""
    }
   },
   "outputs": [
    {
     "data": {
      "text/html": [
       "<style scoped>\n",
       "  .table-result-container {\n",
       "    max-height: 300px;\n",
       "    overflow: auto;\n",
       "  }\n",
       "  table, th, td {\n",
       "    border: 1px solid black;\n",
       "    border-collapse: collapse;\n",
       "  }\n",
       "  th, td {\n",
       "    padding: 5px;\n",
       "  }\n",
       "  th {\n",
       "    text-align: left;\n",
       "  }\n",
       "</style><div class='table-result-container'><table class='table-result'><thead style='background-color: white'><tr><th>id</th><th>experience_level</th><th>job_title</th><th>salary</th><th>salary_currency</th><th>_change_type</th><th>_commit_version</th><th>_commit_timestamp</th></tr></thead><tbody><tr><td>12</td><td>MI</td><td>Data Analyst</td><td>95000</td><td>USD</td><td>delete</td><td>2</td><td>2022-08-12T22:51:57.000+0000</td></tr><tr><td>11</td><td>SE</td><td>DataOps Engineer</td><td>19000</td><td>USD</td><td>insert</td><td>4</td><td>2022-08-12T22:54:49.000+0000</td></tr><tr><td>9</td><td>SE</td><td>Data Scientist</td><td>160000</td><td>USD</td><td>insert</td><td>3</td><td>2022-08-12T22:54:47.000+0000</td></tr></tbody></table></div>"
      ]
     },
     "metadata": {
      "application/vnd.databricks.v1+output": {
       "addedWidgets": {},
       "aggData": [],
       "aggError": "",
       "aggOverflow": false,
       "aggSchema": [],
       "aggSeriesLimitReached": false,
       "aggType": "",
       "arguments": {},
       "columnCustomDisplayInfos": {},
       "data": [
        [
         "12",
         "MI",
         "Data Analyst",
         "95000",
         "USD",
         "delete",
         2,
         "2022-08-12T22:51:57.000+0000"
        ],
        [
         "11",
         "SE",
         "DataOps Engineer",
         "19000",
         "USD",
         "insert",
         4,
         "2022-08-12T22:54:49.000+0000"
        ],
        [
         "9",
         "SE",
         "Data Scientist",
         "160000",
         "USD",
         "insert",
         3,
         "2022-08-12T22:54:47.000+0000"
        ]
       ],
       "datasetInfos": [],
       "dbfsResultPath": null,
       "isJsonSchema": true,
       "metadata": {},
       "overflow": false,
       "plotOptions": {
        "customPlotOptions": {},
        "displayType": "table",
        "pivotAggregation": null,
        "pivotColumns": null,
        "xColumns": null,
        "yColumns": null
       },
       "removedWidgets": [],
       "schema": [
        {
         "metadata": "{}",
         "name": "id",
         "type": "\"string\""
        },
        {
         "metadata": "{}",
         "name": "experience_level",
         "type": "\"string\""
        },
        {
         "metadata": "{}",
         "name": "job_title",
         "type": "\"string\""
        },
        {
         "metadata": "{}",
         "name": "salary",
         "type": "\"string\""
        },
        {
         "metadata": "{}",
         "name": "salary_currency",
         "type": "\"string\""
        },
        {
         "metadata": "{}",
         "name": "_change_type",
         "type": "\"string\""
        },
        {
         "metadata": "{}",
         "name": "_commit_version",
         "type": "\"long\""
        },
        {
         "metadata": "{}",
         "name": "_commit_timestamp",
         "type": "\"timestamp\""
        }
       ],
       "type": "table"
      }
     },
     "output_type": "display_data"
    }
   ],
   "source": [
    "%sql\n",
    "SELECT * FROM  table_changes('salaryDSBronze', 1)"
   ]
  },
  {
   "cell_type": "markdown",
   "metadata": {
    "application/vnd.databricks.v1+cell": {
     "inputWidgets": {},
     "nuid": "2c2af8af-7bc2-44b5-b8ed-28017f83af22",
     "showTitle": false,
     "title": ""
    }
   },
   "source": [
    "Notice that we have two types of operations `_change_type=insert`, and how do we take these lines to SILVER?, notice that now I need to better define which version of the line to load, if I run the same code above where position=2, the table of destination will not change because this change already exists there. but now my RANGE starts at `_commit_version=3`."
   ]
  },
  {
   "cell_type": "code",
   "execution_count": 0,
   "metadata": {
    "application/vnd.databricks.v1+cell": {
     "inputWidgets": {},
     "nuid": "d081265c-8cf5-4dee-93b5-783a6b0be14b",
     "showTitle": false,
     "title": ""
    }
   },
   "outputs": [
    {
     "data": {
      "text/html": [
       "<style scoped>\n",
       "  .table-result-container {\n",
       "    max-height: 300px;\n",
       "    overflow: auto;\n",
       "  }\n",
       "  table, th, td {\n",
       "    border: 1px solid black;\n",
       "    border-collapse: collapse;\n",
       "  }\n",
       "  th, td {\n",
       "    padding: 5px;\n",
       "  }\n",
       "  th {\n",
       "    text-align: left;\n",
       "  }\n",
       "</style><div class='table-result-container'><table class='table-result'><thead style='background-color: white'><tr><th>num_affected_rows</th><th>num_updated_rows</th><th>num_deleted_rows</th><th>num_inserted_rows</th></tr></thead><tbody><tr><td>2</td><td>0</td><td>0</td><td>2</td></tr></tbody></table></div>"
      ]
     },
     "metadata": {
      "application/vnd.databricks.v1+output": {
       "addedWidgets": {},
       "aggData": [],
       "aggError": "",
       "aggOverflow": false,
       "aggSchema": [],
       "aggSeriesLimitReached": false,
       "aggType": "",
       "arguments": {},
       "columnCustomDisplayInfos": {},
       "data": [
        [
         2,
         0,
         0,
         2
        ]
       ],
       "datasetInfos": [],
       "dbfsResultPath": null,
       "isJsonSchema": true,
       "metadata": {},
       "overflow": false,
       "plotOptions": {
        "customPlotOptions": {},
        "displayType": "table",
        "pivotAggregation": null,
        "pivotColumns": null,
        "xColumns": null,
        "yColumns": null
       },
       "removedWidgets": [],
       "schema": [
        {
         "metadata": "{}",
         "name": "num_affected_rows",
         "type": "\"long\""
        },
        {
         "metadata": "{}",
         "name": "num_updated_rows",
         "type": "\"long\""
        },
        {
         "metadata": "{}",
         "name": "num_deleted_rows",
         "type": "\"long\""
        },
        {
         "metadata": "{}",
         "name": "num_inserted_rows",
         "type": "\"long\""
        }
       ],
       "type": "table"
      }
     },
     "output_type": "display_data"
    }
   ],
   "source": [
    "%sql\n",
    "MERGE INTO salaryDSSilver USING (\n",
    "  SELECT\n",
    "  *\n",
    "FROM\n",
    "  (\n",
    "    SELECT\n",
    "      *,\n",
    "      RANK() OVER (\n",
    "        PARTITION BY id\n",
    "        ORDER by\n",
    "          _commit_version DESC\n",
    "      ) AS RANK\n",
    "    FROM\n",
    "      table_changes('salaryDSBronze', 3)\n",
    "    WHERE\n",
    "      _change_type != 'update_preimage'\n",
    "  )\n",
    "WHERE\n",
    "  RANK = 1\n",
    ") AS bronze_cdf ON bronze_cdf.id = salaryDSSilver.id\n",
    "WHEN MATCHED AND bronze_cdf._change_type = 'delete' THEN DELETE\n",
    "WHEN MATCHED AND bronze_cdf._change_type != 'delete' THEN UPDATE SET *\n",
    "WHEN NOT MATCHED AND bronze_cdf._change_type != 'delete' THEN INSERT *;"
   ]
  },
  {
   "cell_type": "markdown",
   "metadata": {
    "application/vnd.databricks.v1+cell": {
     "inputWidgets": {},
     "nuid": "5ca8efd6-4647-4f06-a4e0-1925315ea404",
     "showTitle": false,
     "title": ""
    }
   },
   "source": [
    "consulting the table."
   ]
  },
  {
   "cell_type": "code",
   "execution_count": 0,
   "metadata": {
    "application/vnd.databricks.v1+cell": {
     "inputWidgets": {},
     "nuid": "b16ebd5d-e120-4f6a-a11e-faa4046b214e",
     "showTitle": false,
     "title": ""
    }
   },
   "outputs": [
    {
     "data": {
      "text/html": [
       "<style scoped>\n",
       "  .table-result-container {\n",
       "    max-height: 300px;\n",
       "    overflow: auto;\n",
       "  }\n",
       "  table, th, td {\n",
       "    border: 1px solid black;\n",
       "    border-collapse: collapse;\n",
       "  }\n",
       "  th, td {\n",
       "    padding: 5px;\n",
       "  }\n",
       "  th {\n",
       "    text-align: left;\n",
       "  }\n",
       "</style><div class='table-result-container'><table class='table-result'><thead style='background-color: white'><tr><th>id</th><th>experience_level</th><th>job_title</th><th>salary</th><th>salary_currency</th></tr></thead><tbody><tr><td>1</td><td>SE</td><td>Machine Learning Scientist</td><td>260000</td><td>USD</td></tr><tr><td>2</td><td>SE</td><td>Big Data Engineer</td><td>85000</td><td>GBP</td></tr><tr><td>3</td><td>MI</td><td>Product Data Analyst</td><td>20000</td><td>USD</td></tr><tr><td>4</td><td>SE</td><td>Machine Learning Engineer</td><td>150000</td><td>USD</td></tr><tr><td>5</td><td>EN</td><td>Data Analyst</td><td>72000</td><td>USD</td></tr><tr><td>6</td><td>SE</td><td>Lead Data Scientist</td><td>190000</td><td>USD</td></tr><tr><td>7</td><td>MI</td><td>Data Scientist</td><td>11000000</td><td>HUF</td></tr><tr><td>8</td><td>MI</td><td>Business Data Analyst</td><td>135000</td><td>USD</td></tr><tr><td>9</td><td>SE</td><td>Data Scientist</td><td>160000</td><td>USD</td></tr><tr><td>11</td><td>SE</td><td>DataOps Engineer</td><td>19000</td><td>USD</td></tr></tbody></table></div>"
      ]
     },
     "metadata": {
      "application/vnd.databricks.v1+output": {
       "addedWidgets": {},
       "aggData": [],
       "aggError": "",
       "aggOverflow": false,
       "aggSchema": [],
       "aggSeriesLimitReached": false,
       "aggType": "",
       "arguments": {},
       "columnCustomDisplayInfos": {},
       "data": [
        [
         "1",
         "SE",
         "Machine Learning Scientist",
         "260000",
         "USD"
        ],
        [
         "2",
         "SE",
         "Big Data Engineer",
         "85000",
         "GBP"
        ],
        [
         "3",
         "MI",
         "Product Data Analyst",
         "20000",
         "USD"
        ],
        [
         "4",
         "SE",
         "Machine Learning Engineer",
         "150000",
         "USD"
        ],
        [
         "5",
         "EN",
         "Data Analyst",
         "72000",
         "USD"
        ],
        [
         "6",
         "SE",
         "Lead Data Scientist",
         "190000",
         "USD"
        ],
        [
         "7",
         "MI",
         "Data Scientist",
         "11000000",
         "HUF"
        ],
        [
         "8",
         "MI",
         "Business Data Analyst",
         "135000",
         "USD"
        ],
        [
         "9",
         "SE",
         "Data Scientist",
         "160000",
         "USD"
        ],
        [
         "11",
         "SE",
         "DataOps Engineer",
         "19000",
         "USD"
        ]
       ],
       "datasetInfos": [],
       "dbfsResultPath": null,
       "isJsonSchema": true,
       "metadata": {},
       "overflow": false,
       "plotOptions": {
        "customPlotOptions": {},
        "displayType": "table",
        "pivotAggregation": null,
        "pivotColumns": null,
        "xColumns": null,
        "yColumns": null
       },
       "removedWidgets": [],
       "schema": [
        {
         "metadata": "{}",
         "name": "id",
         "type": "\"string\""
        },
        {
         "metadata": "{}",
         "name": "experience_level",
         "type": "\"string\""
        },
        {
         "metadata": "{}",
         "name": "job_title",
         "type": "\"string\""
        },
        {
         "metadata": "{}",
         "name": "salary",
         "type": "\"string\""
        },
        {
         "metadata": "{}",
         "name": "salary_currency",
         "type": "\"string\""
        }
       ],
       "type": "table"
      }
     },
     "output_type": "display_data"
    }
   ],
   "source": [
    "%sql\n",
    "SELECT\n",
    "  *\n",
    "FROM\n",
    "  salaryDSSilver\n",
    "ORDER BY\n",
    "  CAST(id AS INT) ASC"
   ]
  },
  {
   "cell_type": "markdown",
   "metadata": {
    "application/vnd.databricks.v1+cell": {
     "inputWidgets": {},
     "nuid": "a8fddcc8-bb00-475d-ac7e-9a80003784cc",
     "showTitle": false,
     "title": ""
    }
   },
   "source": [
    "There is a point of attention, in the UPDATE type operation, two lines are generated, one where _change_type=update_preimage and _change_type=update_postimage\n",
    "\n",
    "`update_preimage` = Content of the row before an update  \n",
    "`update_postimage` = Content of the row after the update (what you want to capture downstream)  \n",
    "\n",
    "In this case we need update_postimage, let's go to the example, let's update a BRONZE line."
   ]
  },
  {
   "cell_type": "code",
   "execution_count": 0,
   "metadata": {
    "application/vnd.databricks.v1+cell": {
     "inputWidgets": {},
     "nuid": "d236d358-d58c-495f-888b-d0e778757726",
     "showTitle": false,
     "title": ""
    }
   },
   "outputs": [
    {
     "data": {
      "text/html": [
       "<style scoped>\n",
       "  .table-result-container {\n",
       "    max-height: 300px;\n",
       "    overflow: auto;\n",
       "  }\n",
       "  table, th, td {\n",
       "    border: 1px solid black;\n",
       "    border-collapse: collapse;\n",
       "  }\n",
       "  th, td {\n",
       "    padding: 5px;\n",
       "  }\n",
       "  th {\n",
       "    text-align: left;\n",
       "  }\n",
       "</style><div class='table-result-container'><table class='table-result'><thead style='background-color: white'><tr><th>num_affected_rows</th></tr></thead><tbody><tr><td>1</td></tr></tbody></table></div>"
      ]
     },
     "metadata": {
      "application/vnd.databricks.v1+output": {
       "addedWidgets": {},
       "aggData": [],
       "aggError": "",
       "aggOverflow": false,
       "aggSchema": [],
       "aggSeriesLimitReached": false,
       "aggType": "",
       "arguments": {},
       "columnCustomDisplayInfos": {},
       "data": [
        [
         1
        ]
       ],
       "datasetInfos": [],
       "dbfsResultPath": null,
       "isJsonSchema": true,
       "metadata": {},
       "overflow": false,
       "plotOptions": {
        "customPlotOptions": {},
        "displayType": "table",
        "pivotAggregation": null,
        "pivotColumns": null,
        "xColumns": null,
        "yColumns": null
       },
       "removedWidgets": [],
       "schema": [
        {
         "metadata": "{}",
         "name": "num_affected_rows",
         "type": "\"long\""
        }
       ],
       "type": "table"
      }
     },
     "output_type": "display_data"
    }
   ],
   "source": [
    "%sql\n",
    "UPDATE salaryDSBronze SET salary_currency='USD',salary='110000' WHERE id=7;"
   ]
  },
  {
   "cell_type": "markdown",
   "metadata": {
    "application/vnd.databricks.v1+cell": {
     "inputWidgets": {},
     "nuid": "d94b9599-fa3f-4d37-8e8c-bf360942b5c5",
     "showTitle": false,
     "title": ""
    }
   },
   "source": [
    "consulting the table."
   ]
  },
  {
   "cell_type": "code",
   "execution_count": 0,
   "metadata": {
    "application/vnd.databricks.v1+cell": {
     "inputWidgets": {},
     "nuid": "ba031f3e-3688-4050-8bdf-3220db90c13f",
     "showTitle": false,
     "title": ""
    }
   },
   "outputs": [
    {
     "data": {
      "text/html": [
       "<style scoped>\n",
       "  .table-result-container {\n",
       "    max-height: 300px;\n",
       "    overflow: auto;\n",
       "  }\n",
       "  table, th, td {\n",
       "    border: 1px solid black;\n",
       "    border-collapse: collapse;\n",
       "  }\n",
       "  th, td {\n",
       "    padding: 5px;\n",
       "  }\n",
       "  th {\n",
       "    text-align: left;\n",
       "  }\n",
       "</style><div class='table-result-container'><table class='table-result'><thead style='background-color: white'><tr><th>id</th><th>experience_level</th><th>job_title</th><th>salary</th><th>salary_currency</th></tr></thead><tbody><tr><td>1</td><td>SE</td><td>Machine Learning Scientist</td><td>260000</td><td>USD</td></tr><tr><td>2</td><td>SE</td><td>Big Data Engineer</td><td>85000</td><td>GBP</td></tr><tr><td>3</td><td>MI</td><td>Product Data Analyst</td><td>20000</td><td>USD</td></tr><tr><td>4</td><td>SE</td><td>Machine Learning Engineer</td><td>150000</td><td>USD</td></tr><tr><td>5</td><td>EN</td><td>Data Analyst</td><td>72000</td><td>USD</td></tr><tr><td>6</td><td>SE</td><td>Lead Data Scientist</td><td>190000</td><td>USD</td></tr><tr><td>7</td><td>MI</td><td>Data Scientist</td><td>110000</td><td>USD</td></tr><tr><td>8</td><td>MI</td><td>Business Data Analyst</td><td>135000</td><td>USD</td></tr><tr><td>9</td><td>SE</td><td>Data Scientist</td><td>160000</td><td>USD</td></tr><tr><td>11</td><td>SE</td><td>DataOps Engineer</td><td>19000</td><td>USD</td></tr></tbody></table></div>"
      ]
     },
     "metadata": {
      "application/vnd.databricks.v1+output": {
       "addedWidgets": {},
       "aggData": [],
       "aggError": "",
       "aggOverflow": false,
       "aggSchema": [],
       "aggSeriesLimitReached": false,
       "aggType": "",
       "arguments": {},
       "columnCustomDisplayInfos": {},
       "data": [
        [
         "1",
         "SE",
         "Machine Learning Scientist",
         "260000",
         "USD"
        ],
        [
         "2",
         "SE",
         "Big Data Engineer",
         "85000",
         "GBP"
        ],
        [
         "3",
         "MI",
         "Product Data Analyst",
         "20000",
         "USD"
        ],
        [
         "4",
         "SE",
         "Machine Learning Engineer",
         "150000",
         "USD"
        ],
        [
         "5",
         "EN",
         "Data Analyst",
         "72000",
         "USD"
        ],
        [
         "6",
         "SE",
         "Lead Data Scientist",
         "190000",
         "USD"
        ],
        [
         "7",
         "MI",
         "Data Scientist",
         "110000",
         "USD"
        ],
        [
         "8",
         "MI",
         "Business Data Analyst",
         "135000",
         "USD"
        ],
        [
         "9",
         "SE",
         "Data Scientist",
         "160000",
         "USD"
        ],
        [
         "11",
         "SE",
         "DataOps Engineer",
         "19000",
         "USD"
        ]
       ],
       "datasetInfos": [],
       "dbfsResultPath": null,
       "isJsonSchema": true,
       "metadata": {},
       "overflow": false,
       "plotOptions": {
        "customPlotOptions": {},
        "displayType": "table",
        "pivotAggregation": null,
        "pivotColumns": null,
        "xColumns": null,
        "yColumns": null
       },
       "removedWidgets": [],
       "schema": [
        {
         "metadata": "{}",
         "name": "id",
         "type": "\"string\""
        },
        {
         "metadata": "{}",
         "name": "experience_level",
         "type": "\"string\""
        },
        {
         "metadata": "{}",
         "name": "job_title",
         "type": "\"string\""
        },
        {
         "metadata": "{}",
         "name": "salary",
         "type": "\"string\""
        },
        {
         "metadata": "{}",
         "name": "salary_currency",
         "type": "\"string\""
        }
       ],
       "type": "table"
      }
     },
     "output_type": "display_data"
    }
   ],
   "source": [
    "%sql\n",
    "SELECT\n",
    "  *\n",
    "FROM\n",
    "  salaryDSBronze\n",
    "ORDER BY\n",
    "  CAST(id AS INT) ASC"
   ]
  },
  {
   "cell_type": "markdown",
   "metadata": {
    "application/vnd.databricks.v1+cell": {
     "inputWidgets": {},
     "nuid": "95b46717-3b95-4228-b307-14fc3c924376",
     "showTitle": false,
     "title": ""
    }
   },
   "source": [
    "Lines changed."
   ]
  },
  {
   "cell_type": "code",
   "execution_count": 0,
   "metadata": {
    "application/vnd.databricks.v1+cell": {
     "inputWidgets": {},
     "nuid": "5bec3892-213a-4b84-9e53-19b61dccc5a1",
     "showTitle": false,
     "title": ""
    }
   },
   "outputs": [
    {
     "data": {
      "text/html": [
       "<style scoped>\n",
       "  .table-result-container {\n",
       "    max-height: 300px;\n",
       "    overflow: auto;\n",
       "  }\n",
       "  table, th, td {\n",
       "    border: 1px solid black;\n",
       "    border-collapse: collapse;\n",
       "  }\n",
       "  th, td {\n",
       "    padding: 5px;\n",
       "  }\n",
       "  th {\n",
       "    text-align: left;\n",
       "  }\n",
       "</style><div class='table-result-container'><table class='table-result'><thead style='background-color: white'><tr><th>id</th><th>experience_level</th><th>job_title</th><th>salary</th><th>salary_currency</th><th>_change_type</th><th>_commit_version</th><th>_commit_timestamp</th></tr></thead><tbody><tr><td>7</td><td>MI</td><td>Data Scientist</td><td>11000000</td><td>HUF</td><td>update_preimage</td><td>5</td><td>2022-08-12T22:57:05.000+0000</td></tr><tr><td>7</td><td>MI</td><td>Data Scientist</td><td>110000</td><td>USD</td><td>update_postimage</td><td>5</td><td>2022-08-12T22:57:05.000+0000</td></tr><tr><td>12</td><td>MI</td><td>Data Analyst</td><td>95000</td><td>USD</td><td>delete</td><td>2</td><td>2022-08-12T22:51:57.000+0000</td></tr><tr><td>11</td><td>SE</td><td>DataOps Engineer</td><td>19000</td><td>USD</td><td>insert</td><td>4</td><td>2022-08-12T22:54:49.000+0000</td></tr><tr><td>9</td><td>SE</td><td>Data Scientist</td><td>160000</td><td>USD</td><td>insert</td><td>3</td><td>2022-08-12T22:54:47.000+0000</td></tr></tbody></table></div>"
      ]
     },
     "metadata": {
      "application/vnd.databricks.v1+output": {
       "addedWidgets": {},
       "aggData": [],
       "aggError": "",
       "aggOverflow": false,
       "aggSchema": [],
       "aggSeriesLimitReached": false,
       "aggType": "",
       "arguments": {},
       "columnCustomDisplayInfos": {},
       "data": [
        [
         "7",
         "MI",
         "Data Scientist",
         "11000000",
         "HUF",
         "update_preimage",
         5,
         "2022-08-12T22:57:05.000+0000"
        ],
        [
         "7",
         "MI",
         "Data Scientist",
         "110000",
         "USD",
         "update_postimage",
         5,
         "2022-08-12T22:57:05.000+0000"
        ],
        [
         "12",
         "MI",
         "Data Analyst",
         "95000",
         "USD",
         "delete",
         2,
         "2022-08-12T22:51:57.000+0000"
        ],
        [
         "11",
         "SE",
         "DataOps Engineer",
         "19000",
         "USD",
         "insert",
         4,
         "2022-08-12T22:54:49.000+0000"
        ],
        [
         "9",
         "SE",
         "Data Scientist",
         "160000",
         "USD",
         "insert",
         3,
         "2022-08-12T22:54:47.000+0000"
        ]
       ],
       "datasetInfos": [],
       "dbfsResultPath": null,
       "isJsonSchema": true,
       "metadata": {},
       "overflow": false,
       "plotOptions": {
        "customPlotOptions": {},
        "displayType": "table",
        "pivotAggregation": null,
        "pivotColumns": null,
        "xColumns": null,
        "yColumns": null
       },
       "removedWidgets": [],
       "schema": [
        {
         "metadata": "{}",
         "name": "id",
         "type": "\"string\""
        },
        {
         "metadata": "{}",
         "name": "experience_level",
         "type": "\"string\""
        },
        {
         "metadata": "{}",
         "name": "job_title",
         "type": "\"string\""
        },
        {
         "metadata": "{}",
         "name": "salary",
         "type": "\"string\""
        },
        {
         "metadata": "{}",
         "name": "salary_currency",
         "type": "\"string\""
        },
        {
         "metadata": "{}",
         "name": "_change_type",
         "type": "\"string\""
        },
        {
         "metadata": "{}",
         "name": "_commit_version",
         "type": "\"long\""
        },
        {
         "metadata": "{}",
         "name": "_commit_timestamp",
         "type": "\"timestamp\""
        }
       ],
       "type": "table"
      }
     },
     "output_type": "display_data"
    }
   ],
   "source": [
    "%sql\n",
    "SELECT * FROM  table_changes('salaryDSBronze', 1)"
   ]
  },
  {
   "cell_type": "markdown",
   "metadata": {
    "application/vnd.databricks.v1+cell": {
     "inputWidgets": {},
     "nuid": "70ca8f95-128e-4537-b185-04270b20f6df",
     "showTitle": false,
     "title": ""
    }
   },
   "source": [
    "Notice that we have two lines of ID 7, one with the `_change_type=update_preimage` (shows what the data looked like before the UPDATE)  \n",
    "and `_change_type=update_postimage` (change after the UPDATE) for our SILVER let's take the _commit_version=5 and _change_type=update_postimage"
   ]
  },
  {
   "cell_type": "code",
   "execution_count": 0,
   "metadata": {
    "application/vnd.databricks.v1+cell": {
     "inputWidgets": {},
     "nuid": "82e7b947-a375-4e8e-817c-9c35d7a40c22",
     "showTitle": false,
     "title": ""
    }
   },
   "outputs": [
    {
     "data": {
      "text/html": [
       "<style scoped>\n",
       "  .table-result-container {\n",
       "    max-height: 300px;\n",
       "    overflow: auto;\n",
       "  }\n",
       "  table, th, td {\n",
       "    border: 1px solid black;\n",
       "    border-collapse: collapse;\n",
       "  }\n",
       "  th, td {\n",
       "    padding: 5px;\n",
       "  }\n",
       "  th {\n",
       "    text-align: left;\n",
       "  }\n",
       "</style><div class='table-result-container'><table class='table-result'><thead style='background-color: white'><tr><th>num_affected_rows</th><th>num_updated_rows</th><th>num_deleted_rows</th><th>num_inserted_rows</th></tr></thead><tbody><tr><td>1</td><td>1</td><td>0</td><td>0</td></tr></tbody></table></div>"
      ]
     },
     "metadata": {
      "application/vnd.databricks.v1+output": {
       "addedWidgets": {},
       "aggData": [],
       "aggError": "",
       "aggOverflow": false,
       "aggSchema": [],
       "aggSeriesLimitReached": false,
       "aggType": "",
       "arguments": {},
       "columnCustomDisplayInfos": {},
       "data": [
        [
         1,
         1,
         0,
         0
        ]
       ],
       "datasetInfos": [],
       "dbfsResultPath": null,
       "isJsonSchema": true,
       "metadata": {},
       "overflow": false,
       "plotOptions": {
        "customPlotOptions": {},
        "displayType": "table",
        "pivotAggregation": null,
        "pivotColumns": null,
        "xColumns": null,
        "yColumns": null
       },
       "removedWidgets": [],
       "schema": [
        {
         "metadata": "{}",
         "name": "num_affected_rows",
         "type": "\"long\""
        },
        {
         "metadata": "{}",
         "name": "num_updated_rows",
         "type": "\"long\""
        },
        {
         "metadata": "{}",
         "name": "num_deleted_rows",
         "type": "\"long\""
        },
        {
         "metadata": "{}",
         "name": "num_inserted_rows",
         "type": "\"long\""
        }
       ],
       "type": "table"
      }
     },
     "output_type": "display_data"
    }
   ],
   "source": [
    "%sql\n",
    "MERGE INTO salaryDSSilver USING (\n",
    "  SELECT\n",
    "  *\n",
    "FROM\n",
    "  (\n",
    "    SELECT\n",
    "      *,\n",
    "      RANK() OVER (\n",
    "        PARTITION BY id\n",
    "        ORDER by\n",
    "          _commit_version DESC\n",
    "      ) AS RANK\n",
    "    FROM\n",
    "      table_changes('salaryDSBronze', 5)\n",
    "    WHERE\n",
    "      _change_type != 'update_preimage'\n",
    "  )\n",
    "WHERE\n",
    "  RANK = 1\n",
    ") AS bronze_cdf ON bronze_cdf.id = salaryDSSilver.id\n",
    "WHEN MATCHED AND bronze_cdf._change_type = 'delete' THEN DELETE\n",
    "WHEN MATCHED AND bronze_cdf._change_type != 'delete' THEN UPDATE SET *\n",
    "WHEN NOT MATCHED AND bronze_cdf._change_type != 'delete' THEN INSERT *;"
   ]
  },
  {
   "cell_type": "markdown",
   "metadata": {
    "application/vnd.databricks.v1+cell": {
     "inputWidgets": {},
     "nuid": "5f72d0db-c933-4434-b518-d6c06ff9e584",
     "showTitle": false,
     "title": ""
    }
   },
   "source": [
    "consulting the table."
   ]
  },
  {
   "cell_type": "code",
   "execution_count": 0,
   "metadata": {
    "application/vnd.databricks.v1+cell": {
     "inputWidgets": {},
     "nuid": "615f8ad9-db95-44e2-b0dd-010788b0dd60",
     "showTitle": false,
     "title": ""
    }
   },
   "outputs": [
    {
     "data": {
      "text/html": [
       "<style scoped>\n",
       "  .table-result-container {\n",
       "    max-height: 300px;\n",
       "    overflow: auto;\n",
       "  }\n",
       "  table, th, td {\n",
       "    border: 1px solid black;\n",
       "    border-collapse: collapse;\n",
       "  }\n",
       "  th, td {\n",
       "    padding: 5px;\n",
       "  }\n",
       "  th {\n",
       "    text-align: left;\n",
       "  }\n",
       "</style><div class='table-result-container'><table class='table-result'><thead style='background-color: white'><tr><th>id</th><th>experience_level</th><th>job_title</th><th>salary</th><th>salary_currency</th></tr></thead><tbody><tr><td>1</td><td>SE</td><td>Machine Learning Scientist</td><td>260000</td><td>USD</td></tr><tr><td>2</td><td>SE</td><td>Big Data Engineer</td><td>85000</td><td>GBP</td></tr><tr><td>3</td><td>MI</td><td>Product Data Analyst</td><td>20000</td><td>USD</td></tr><tr><td>4</td><td>SE</td><td>Machine Learning Engineer</td><td>150000</td><td>USD</td></tr><tr><td>5</td><td>EN</td><td>Data Analyst</td><td>72000</td><td>USD</td></tr><tr><td>6</td><td>SE</td><td>Lead Data Scientist</td><td>190000</td><td>USD</td></tr><tr><td>7</td><td>MI</td><td>Data Scientist</td><td>110000</td><td>USD</td></tr><tr><td>8</td><td>MI</td><td>Business Data Analyst</td><td>135000</td><td>USD</td></tr><tr><td>9</td><td>SE</td><td>Data Scientist</td><td>160000</td><td>USD</td></tr><tr><td>11</td><td>SE</td><td>DataOps Engineer</td><td>19000</td><td>USD</td></tr></tbody></table></div>"
      ]
     },
     "metadata": {
      "application/vnd.databricks.v1+output": {
       "addedWidgets": {},
       "aggData": [],
       "aggError": "",
       "aggOverflow": false,
       "aggSchema": [],
       "aggSeriesLimitReached": false,
       "aggType": "",
       "arguments": {},
       "columnCustomDisplayInfos": {},
       "data": [
        [
         "1",
         "SE",
         "Machine Learning Scientist",
         "260000",
         "USD"
        ],
        [
         "2",
         "SE",
         "Big Data Engineer",
         "85000",
         "GBP"
        ],
        [
         "3",
         "MI",
         "Product Data Analyst",
         "20000",
         "USD"
        ],
        [
         "4",
         "SE",
         "Machine Learning Engineer",
         "150000",
         "USD"
        ],
        [
         "5",
         "EN",
         "Data Analyst",
         "72000",
         "USD"
        ],
        [
         "6",
         "SE",
         "Lead Data Scientist",
         "190000",
         "USD"
        ],
        [
         "7",
         "MI",
         "Data Scientist",
         "110000",
         "USD"
        ],
        [
         "8",
         "MI",
         "Business Data Analyst",
         "135000",
         "USD"
        ],
        [
         "9",
         "SE",
         "Data Scientist",
         "160000",
         "USD"
        ],
        [
         "11",
         "SE",
         "DataOps Engineer",
         "19000",
         "USD"
        ]
       ],
       "datasetInfos": [],
       "dbfsResultPath": null,
       "isJsonSchema": true,
       "metadata": {},
       "overflow": false,
       "plotOptions": {
        "customPlotOptions": {},
        "displayType": "table",
        "pivotAggregation": null,
        "pivotColumns": null,
        "xColumns": null,
        "yColumns": null
       },
       "removedWidgets": [],
       "schema": [
        {
         "metadata": "{}",
         "name": "id",
         "type": "\"string\""
        },
        {
         "metadata": "{}",
         "name": "experience_level",
         "type": "\"string\""
        },
        {
         "metadata": "{}",
         "name": "job_title",
         "type": "\"string\""
        },
        {
         "metadata": "{}",
         "name": "salary",
         "type": "\"string\""
        },
        {
         "metadata": "{}",
         "name": "salary_currency",
         "type": "\"string\""
        }
       ],
       "type": "table"
      }
     },
     "output_type": "display_data"
    }
   ],
   "source": [
    "%sql\n",
    "SELECT\n",
    "  *\n",
    "FROM\n",
    "  salaryDSSilver\n",
    "ORDER BY\n",
    "  CAST(id AS INT) ASC"
   ]
  },
  {
   "cell_type": "markdown",
   "metadata": {
    "application/vnd.databricks.v1+cell": {
     "inputWidgets": {},
     "nuid": "de4e2c01-987c-4043-9e2f-b64e62887c03",
     "showTitle": false,
     "title": ""
    }
   },
   "source": [
    "Notice that the ID=7 in the salary field, which before was = 11000000, with the update it was 110000, but what if I want to see what the table was like before this update? simple, see."
   ]
  },
  {
   "cell_type": "code",
   "execution_count": 0,
   "metadata": {
    "application/vnd.databricks.v1+cell": {
     "inputWidgets": {},
     "nuid": "a2297f0f-1143-4042-bc22-36826a4113bd",
     "showTitle": false,
     "title": ""
    }
   },
   "outputs": [
    {
     "data": {
      "text/html": [
       "<style scoped>\n",
       "  .table-result-container {\n",
       "    max-height: 300px;\n",
       "    overflow: auto;\n",
       "  }\n",
       "  table, th, td {\n",
       "    border: 1px solid black;\n",
       "    border-collapse: collapse;\n",
       "  }\n",
       "  th, td {\n",
       "    padding: 5px;\n",
       "  }\n",
       "  th {\n",
       "    text-align: left;\n",
       "  }\n",
       "</style><div class='table-result-container'><table class='table-result'><thead style='background-color: white'><tr><th>id</th><th>experience_level</th><th>job_title</th><th>salary</th><th>salary_currency</th></tr></thead><tbody><tr><td>1</td><td>SE</td><td>Machine Learning Scientist</td><td>260000</td><td>USD</td></tr><tr><td>2</td><td>SE</td><td>Big Data Engineer</td><td>85000</td><td>GBP</td></tr><tr><td>3</td><td>MI</td><td>Product Data Analyst</td><td>20000</td><td>USD</td></tr><tr><td>4</td><td>SE</td><td>Machine Learning Engineer</td><td>150000</td><td>USD</td></tr><tr><td>5</td><td>EN</td><td>Data Analyst</td><td>72000</td><td>USD</td></tr><tr><td>6</td><td>SE</td><td>Lead Data Scientist</td><td>190000</td><td>USD</td></tr><tr><td>7</td><td>MI</td><td>Data Scientist</td><td>11000000</td><td>HUF</td></tr><tr><td>8</td><td>MI</td><td>Business Data Analyst</td><td>135000</td><td>USD</td></tr><tr><td>11</td><td>SE</td><td>DataOps Engineer</td><td>19000</td><td>USD</td></tr><tr><td>9</td><td>SE</td><td>Data Scientist</td><td>160000</td><td>USD</td></tr></tbody></table></div>"
      ]
     },
     "metadata": {
      "application/vnd.databricks.v1+output": {
       "addedWidgets": {},
       "aggData": [],
       "aggError": "",
       "aggOverflow": false,
       "aggSchema": [],
       "aggSeriesLimitReached": false,
       "aggType": "",
       "arguments": {},
       "columnCustomDisplayInfos": {},
       "data": [
        [
         "1",
         "SE",
         "Machine Learning Scientist",
         "260000",
         "USD"
        ],
        [
         "2",
         "SE",
         "Big Data Engineer",
         "85000",
         "GBP"
        ],
        [
         "3",
         "MI",
         "Product Data Analyst",
         "20000",
         "USD"
        ],
        [
         "4",
         "SE",
         "Machine Learning Engineer",
         "150000",
         "USD"
        ],
        [
         "5",
         "EN",
         "Data Analyst",
         "72000",
         "USD"
        ],
        [
         "6",
         "SE",
         "Lead Data Scientist",
         "190000",
         "USD"
        ],
        [
         "7",
         "MI",
         "Data Scientist",
         "11000000",
         "HUF"
        ],
        [
         "8",
         "MI",
         "Business Data Analyst",
         "135000",
         "USD"
        ],
        [
         "11",
         "SE",
         "DataOps Engineer",
         "19000",
         "USD"
        ],
        [
         "9",
         "SE",
         "Data Scientist",
         "160000",
         "USD"
        ]
       ],
       "datasetInfos": [],
       "dbfsResultPath": null,
       "isJsonSchema": true,
       "metadata": {},
       "overflow": false,
       "plotOptions": {
        "customPlotOptions": {},
        "displayType": "table",
        "pivotAggregation": null,
        "pivotColumns": null,
        "xColumns": null,
        "yColumns": null
       },
       "removedWidgets": [],
       "schema": [
        {
         "metadata": "{}",
         "name": "id",
         "type": "\"string\""
        },
        {
         "metadata": "{}",
         "name": "experience_level",
         "type": "\"string\""
        },
        {
         "metadata": "{}",
         "name": "job_title",
         "type": "\"string\""
        },
        {
         "metadata": "{}",
         "name": "salary",
         "type": "\"string\""
        },
        {
         "metadata": "{}",
         "name": "salary_currency",
         "type": "\"string\""
        }
       ],
       "type": "table"
      }
     },
     "output_type": "display_data"
    }
   ],
   "source": [
    "%sql\n",
    "SELECT * FROM salaryDSBronze VERSION AS OF 4;"
   ]
  },
  {
   "cell_type": "markdown",
   "metadata": {
    "application/vnd.databricks.v1+cell": {
     "inputWidgets": {},
     "nuid": "9167d4da-62e7-4621-8004-63e7ec41c88a",
     "showTitle": false,
     "title": ""
    }
   },
   "source": [
    "In version=4 of the table I have the original field.  \n",
    "Now let's insert data from SILVER in GOLD, the process is very similar, let's take what was changed in the SILVER table and play in GOLD, but let's see the changes in SILVER"
   ]
  },
  {
   "cell_type": "code",
   "execution_count": 0,
   "metadata": {
    "application/vnd.databricks.v1+cell": {
     "inputWidgets": {},
     "nuid": "058255ee-711b-42b3-aa21-12e57771f6f5",
     "showTitle": false,
     "title": ""
    }
   },
   "outputs": [
    {
     "data": {
      "text/html": [
       "<style scoped>\n",
       "  .table-result-container {\n",
       "    max-height: 300px;\n",
       "    overflow: auto;\n",
       "  }\n",
       "  table, th, td {\n",
       "    border: 1px solid black;\n",
       "    border-collapse: collapse;\n",
       "  }\n",
       "  th, td {\n",
       "    padding: 5px;\n",
       "  }\n",
       "  th {\n",
       "    text-align: left;\n",
       "  }\n",
       "</style><div class='table-result-container'><table class='table-result'><thead style='background-color: white'><tr><th>id</th><th>experience_level</th><th>job_title</th><th>salary</th><th>salary_currency</th><th>_change_type</th><th>_commit_version</th><th>_commit_timestamp</th></tr></thead><tbody><tr><td>7</td><td>MI</td><td>Data Scientist</td><td>11000000</td><td>HUF</td><td>update_preimage</td><td>4</td><td>2022-08-12T22:58:36.000+0000</td></tr><tr><td>7</td><td>MI</td><td>Data Scientist</td><td>110000</td><td>USD</td><td>update_postimage</td><td>4</td><td>2022-08-12T22:58:36.000+0000</td></tr><tr><td>12</td><td>MI</td><td>Data Analyst</td><td>95000</td><td>USD</td><td>delete</td><td>2</td><td>2022-08-12T22:54:04.000+0000</td></tr><tr><td>1</td><td>SE</td><td>Machine Learning Scientist</td><td>260000</td><td>USD</td><td>insert</td><td>1</td><td>2022-08-12T22:48:02.000+0000</td></tr><tr><td>2</td><td>SE</td><td>Big Data Engineer</td><td>85000</td><td>GBP</td><td>insert</td><td>1</td><td>2022-08-12T22:48:02.000+0000</td></tr><tr><td>3</td><td>MI</td><td>Product Data Analyst</td><td>20000</td><td>USD</td><td>insert</td><td>1</td><td>2022-08-12T22:48:02.000+0000</td></tr><tr><td>4</td><td>SE</td><td>Machine Learning Engineer</td><td>150000</td><td>USD</td><td>insert</td><td>1</td><td>2022-08-12T22:48:02.000+0000</td></tr><tr><td>5</td><td>EN</td><td>Data Analyst</td><td>72000</td><td>USD</td><td>insert</td><td>1</td><td>2022-08-12T22:48:02.000+0000</td></tr><tr><td>6</td><td>SE</td><td>Lead Data Scientist</td><td>190000</td><td>USD</td><td>insert</td><td>1</td><td>2022-08-12T22:48:02.000+0000</td></tr><tr><td>7</td><td>MI</td><td>Data Scientist</td><td>11000000</td><td>HUF</td><td>insert</td><td>1</td><td>2022-08-12T22:48:02.000+0000</td></tr><tr><td>8</td><td>MI</td><td>Business Data Analyst</td><td>135000</td><td>USD</td><td>insert</td><td>1</td><td>2022-08-12T22:48:02.000+0000</td></tr><tr><td>12</td><td>MI</td><td>Data Analyst</td><td>95000</td><td>USD</td><td>insert</td><td>1</td><td>2022-08-12T22:48:02.000+0000</td></tr><tr><td>11</td><td>SE</td><td>DataOps Engineer</td><td>19000</td><td>USD</td><td>insert</td><td>3</td><td>2022-08-12T22:55:54.000+0000</td></tr><tr><td>9</td><td>SE</td><td>Data Scientist</td><td>160000</td><td>USD</td><td>insert</td><td>3</td><td>2022-08-12T22:55:54.000+0000</td></tr></tbody></table></div>"
      ]
     },
     "metadata": {
      "application/vnd.databricks.v1+output": {
       "addedWidgets": {},
       "aggData": [],
       "aggError": "",
       "aggOverflow": false,
       "aggSchema": [],
       "aggSeriesLimitReached": false,
       "aggType": "",
       "arguments": {},
       "columnCustomDisplayInfos": {},
       "data": [
        [
         "7",
         "MI",
         "Data Scientist",
         "11000000",
         "HUF",
         "update_preimage",
         4,
         "2022-08-12T22:58:36.000+0000"
        ],
        [
         "7",
         "MI",
         "Data Scientist",
         "110000",
         "USD",
         "update_postimage",
         4,
         "2022-08-12T22:58:36.000+0000"
        ],
        [
         "12",
         "MI",
         "Data Analyst",
         "95000",
         "USD",
         "delete",
         2,
         "2022-08-12T22:54:04.000+0000"
        ],
        [
         "1",
         "SE",
         "Machine Learning Scientist",
         "260000",
         "USD",
         "insert",
         1,
         "2022-08-12T22:48:02.000+0000"
        ],
        [
         "2",
         "SE",
         "Big Data Engineer",
         "85000",
         "GBP",
         "insert",
         1,
         "2022-08-12T22:48:02.000+0000"
        ],
        [
         "3",
         "MI",
         "Product Data Analyst",
         "20000",
         "USD",
         "insert",
         1,
         "2022-08-12T22:48:02.000+0000"
        ],
        [
         "4",
         "SE",
         "Machine Learning Engineer",
         "150000",
         "USD",
         "insert",
         1,
         "2022-08-12T22:48:02.000+0000"
        ],
        [
         "5",
         "EN",
         "Data Analyst",
         "72000",
         "USD",
         "insert",
         1,
         "2022-08-12T22:48:02.000+0000"
        ],
        [
         "6",
         "SE",
         "Lead Data Scientist",
         "190000",
         "USD",
         "insert",
         1,
         "2022-08-12T22:48:02.000+0000"
        ],
        [
         "7",
         "MI",
         "Data Scientist",
         "11000000",
         "HUF",
         "insert",
         1,
         "2022-08-12T22:48:02.000+0000"
        ],
        [
         "8",
         "MI",
         "Business Data Analyst",
         "135000",
         "USD",
         "insert",
         1,
         "2022-08-12T22:48:02.000+0000"
        ],
        [
         "12",
         "MI",
         "Data Analyst",
         "95000",
         "USD",
         "insert",
         1,
         "2022-08-12T22:48:02.000+0000"
        ],
        [
         "11",
         "SE",
         "DataOps Engineer",
         "19000",
         "USD",
         "insert",
         3,
         "2022-08-12T22:55:54.000+0000"
        ],
        [
         "9",
         "SE",
         "Data Scientist",
         "160000",
         "USD",
         "insert",
         3,
         "2022-08-12T22:55:54.000+0000"
        ]
       ],
       "datasetInfos": [],
       "dbfsResultPath": null,
       "isJsonSchema": true,
       "metadata": {},
       "overflow": false,
       "plotOptions": {
        "customPlotOptions": {},
        "displayType": "table",
        "pivotAggregation": null,
        "pivotColumns": null,
        "xColumns": null,
        "yColumns": null
       },
       "removedWidgets": [],
       "schema": [
        {
         "metadata": "{}",
         "name": "id",
         "type": "\"string\""
        },
        {
         "metadata": "{}",
         "name": "experience_level",
         "type": "\"string\""
        },
        {
         "metadata": "{}",
         "name": "job_title",
         "type": "\"string\""
        },
        {
         "metadata": "{}",
         "name": "salary",
         "type": "\"string\""
        },
        {
         "metadata": "{}",
         "name": "salary_currency",
         "type": "\"string\""
        },
        {
         "metadata": "{}",
         "name": "_change_type",
         "type": "\"string\""
        },
        {
         "metadata": "{}",
         "name": "_commit_version",
         "type": "\"long\""
        },
        {
         "metadata": "{}",
         "name": "_commit_timestamp",
         "type": "\"timestamp\""
        }
       ],
       "type": "table"
      }
     },
     "output_type": "display_data"
    }
   ],
   "source": [
    "%sql\n",
    "SELECT * FROM table_changes('salaryDSSilver', 1)"
   ]
  },
  {
   "cell_type": "markdown",
   "metadata": {
    "application/vnd.databricks.v1+cell": {
     "inputWidgets": {},
     "nuid": "f99373c6-1aad-4eec-afa7-f54c947111e0",
     "showTitle": false,
     "title": ""
    }
   },
   "source": [
    "Notice that here we have the 3 operations, INSERT, which were lines that we inserted from the BRONZE, we have UPDATE, we update the ID=7  \n",
    "and we have a DELETE of the ID=12, in this case, we will aggregate the data and MERGE the GOLD"
   ]
  },
  {
   "cell_type": "code",
   "execution_count": 0,
   "metadata": {
    "application/vnd.databricks.v1+cell": {
     "inputWidgets": {},
     "nuid": "74261e2d-e654-4301-b87e-d0274dc1f18e",
     "showTitle": false,
     "title": ""
    }
   },
   "outputs": [
    {
     "data": {
      "text/html": [
       "<style scoped>\n",
       "  .table-result-container {\n",
       "    max-height: 300px;\n",
       "    overflow: auto;\n",
       "  }\n",
       "  table, th, td {\n",
       "    border: 1px solid black;\n",
       "    border-collapse: collapse;\n",
       "  }\n",
       "  th, td {\n",
       "    padding: 5px;\n",
       "  }\n",
       "  th {\n",
       "    text-align: left;\n",
       "  }\n",
       "</style><div class='table-result-container'><table class='table-result'><thead style='background-color: white'><tr><th>num_affected_rows</th><th>num_updated_rows</th><th>num_deleted_rows</th><th>num_inserted_rows</th></tr></thead><tbody><tr><td>9</td><td>0</td><td>0</td><td>9</td></tr></tbody></table></div>"
      ]
     },
     "metadata": {
      "application/vnd.databricks.v1+output": {
       "addedWidgets": {},
       "aggData": [],
       "aggError": "",
       "aggOverflow": false,
       "aggSchema": [],
       "aggSeriesLimitReached": false,
       "aggType": "",
       "arguments": {},
       "columnCustomDisplayInfos": {},
       "data": [
        [
         9,
         0,
         0,
         9
        ]
       ],
       "datasetInfos": [],
       "dbfsResultPath": null,
       "isJsonSchema": true,
       "metadata": {},
       "overflow": false,
       "plotOptions": {
        "customPlotOptions": {},
        "displayType": "table",
        "pivotAggregation": null,
        "pivotColumns": null,
        "xColumns": null,
        "yColumns": null
       },
       "removedWidgets": [],
       "schema": [
        {
         "metadata": "{}",
         "name": "num_affected_rows",
         "type": "\"long\""
        },
        {
         "metadata": "{}",
         "name": "num_updated_rows",
         "type": "\"long\""
        },
        {
         "metadata": "{}",
         "name": "num_deleted_rows",
         "type": "\"long\""
        },
        {
         "metadata": "{}",
         "name": "num_inserted_rows",
         "type": "\"long\""
        }
       ],
       "type": "table"
      }
     },
     "output_type": "display_data"
    }
   ],
   "source": [
    "%sql\n",
    "MERGE INTO salaryDSGold USING (\n",
    "SELECT\n",
    "  salaryDSSilver.job_title,\n",
    "  salaryDSSilver.salary_currency,\n",
    "  SUM(CAST(salaryDSSilver.salary AS FLOAT)) as media_salary\n",
    "FROM\n",
    "  salaryDSSilver\n",
    "  INNER JOIN (\n",
    "    SELECT\n",
    "      DISTINCT id\n",
    "    FROM\n",
    "      table_changes('salaryDSSilver', 1)\n",
    "    WHERE\n",
    "    _change_type != 'update_preimage'\n",
    "  ) AS silver_cdf ON salaryDSSilver.id = silver_cdf.id\n",
    "GROUP BY\n",
    "  salaryDSSilver.job_title,\n",
    "  salaryDSSilver.salary_currency\n",
    ") AS silver_cdf_agg ON silver_cdf_agg.job_title = salaryDSGold.job_title\n",
    "AND silver_cdf_agg.salary_currency = salaryDSGold.salary_currency\n",
    "WHEN MATCHED THEN UPDATE SET *\n",
    "WHEN NOT MATCHED THEN INSERT *;"
   ]
  },
  {
   "cell_type": "markdown",
   "metadata": {
    "application/vnd.databricks.v1+cell": {
     "inputWidgets": {},
     "nuid": "c6708075-4e50-4ba2-be5b-2e12cab90070",
     "showTitle": false,
     "title": ""
    }
   },
   "source": [
    "consulting the table."
   ]
  },
  {
   "cell_type": "code",
   "execution_count": 0,
   "metadata": {
    "application/vnd.databricks.v1+cell": {
     "inputWidgets": {},
     "nuid": "7c49aae7-57a9-4d28-bafa-c2d4cbda2de1",
     "showTitle": false,
     "title": ""
    }
   },
   "outputs": [
    {
     "data": {
      "text/html": [
       "<style scoped>\n",
       "  .table-result-container {\n",
       "    max-height: 300px;\n",
       "    overflow: auto;\n",
       "  }\n",
       "  table, th, td {\n",
       "    border: 1px solid black;\n",
       "    border-collapse: collapse;\n",
       "  }\n",
       "  th, td {\n",
       "    padding: 5px;\n",
       "  }\n",
       "  th {\n",
       "    text-align: left;\n",
       "  }\n",
       "</style><div class='table-result-container'><table class='table-result'><thead style='background-color: white'><tr><th>job_title</th><th>salary_currency</th><th>media_salary</th></tr></thead><tbody><tr><td>Big Data Engineer</td><td>GBP</td><td>85000.0</td></tr><tr><td>Business Data Analyst</td><td>USD</td><td>135000.0</td></tr><tr><td>Data Analyst</td><td>USD</td><td>72000.0</td></tr><tr><td>Data Scientist</td><td>USD</td><td>270000.0</td></tr><tr><td>DataOps Engineer</td><td>USD</td><td>19000.0</td></tr><tr><td>Lead Data Scientist</td><td>USD</td><td>190000.0</td></tr><tr><td>Machine Learning Engineer</td><td>USD</td><td>150000.0</td></tr><tr><td>Machine Learning Scientist</td><td>USD</td><td>260000.0</td></tr><tr><td>Product Data Analyst</td><td>USD</td><td>20000.0</td></tr></tbody></table></div>"
      ]
     },
     "metadata": {
      "application/vnd.databricks.v1+output": {
       "addedWidgets": {},
       "aggData": [],
       "aggError": "",
       "aggOverflow": false,
       "aggSchema": [],
       "aggSeriesLimitReached": false,
       "aggType": "",
       "arguments": {},
       "columnCustomDisplayInfos": {},
       "data": [
        [
         "Big Data Engineer",
         "GBP",
         85000
        ],
        [
         "Business Data Analyst",
         "USD",
         135000
        ],
        [
         "Data Analyst",
         "USD",
         72000
        ],
        [
         "Data Scientist",
         "USD",
         270000
        ],
        [
         "DataOps Engineer",
         "USD",
         19000
        ],
        [
         "Lead Data Scientist",
         "USD",
         190000
        ],
        [
         "Machine Learning Engineer",
         "USD",
         150000
        ],
        [
         "Machine Learning Scientist",
         "USD",
         260000
        ],
        [
         "Product Data Analyst",
         "USD",
         20000
        ]
       ],
       "datasetInfos": [],
       "dbfsResultPath": null,
       "isJsonSchema": true,
       "metadata": {},
       "overflow": false,
       "plotOptions": {
        "customPlotOptions": {},
        "displayType": "table",
        "pivotAggregation": null,
        "pivotColumns": null,
        "xColumns": null,
        "yColumns": null
       },
       "removedWidgets": [],
       "schema": [
        {
         "metadata": "{}",
         "name": "job_title",
         "type": "\"string\""
        },
        {
         "metadata": "{}",
         "name": "salary_currency",
         "type": "\"string\""
        },
        {
         "metadata": "{}",
         "name": "media_salary",
         "type": "\"float\""
        }
       ],
       "type": "table"
      }
     },
     "output_type": "display_data"
    }
   ],
   "source": [
    "%sql\n",
    "SELECT * FROM salaryDSGold ORDER BY job_title;"
   ]
  },
  {
   "cell_type": "markdown",
   "metadata": {
    "application/vnd.databricks.v1+cell": {
     "inputWidgets": {},
     "nuid": "c9c727e9-5c81-42cc-aab7-f9ae1aeb60fc",
     "showTitle": false,
     "title": ""
    }
   },
   "source": [
    "Well I hope you liked it. This was just a very basic example of how to use CDF (Change Data Feed),  \n",
    "there are other ways to use this feature, for more information, see the documentation: https://docs.delta.io/latest/delta-change- data-feed.html\n",
    "\n",
    "See you later, I went."
   ]
  }
 ],
 "metadata": {
  "application/vnd.databricks.v1+notebook": {
   "dashboards": [],
   "language": "python",
   "notebookMetadata": {
    "mostRecentlyExecutedCommandWithImplicitDF": {
     "commandId": 771390163308127,
     "dataframes": [
      "_sqldf"
     ]
    },
    "pythonIndentUnit": 4
   },
   "notebookName": "change-data-feed-sample",
   "notebookOrigID": 771390163308072,
   "widgets": {}
  },
  "kernelspec": {
   "display_name": "Python 3 (ipykernel)",
   "language": "python",
   "name": "python3"
  },
  "language_info": {
   "codemirror_mode": {
    "name": "ipython",
    "version": 3
   },
   "file_extension": ".py",
   "mimetype": "text/x-python",
   "name": "python",
   "nbconvert_exporter": "python",
   "pygments_lexer": "ipython3",
   "version": "3.10.6"
  }
 },
 "nbformat": 4,
 "nbformat_minor": 1
}
